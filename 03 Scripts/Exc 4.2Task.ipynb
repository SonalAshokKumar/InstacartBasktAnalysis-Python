{
 "cells": [
  {
   "cell_type": "markdown",
   "id": "635c6e35-cf00-4ff3-b05c-f5b28dabac02",
   "metadata": {},
   "source": [
    "\n",
    "# 01.Importing libraries\n"
   ]
  },
  {
   "cell_type": "code",
   "execution_count": 1,
   "id": "20d02881-e3ad-4898-8b1b-6143826a7171",
   "metadata": {},
   "outputs": [],
   "source": [
    "# Import libraries\n",
    "import pandas as pd\n",
    "import numpy as np\n",
    "import os"
   ]
  },
  {
   "cell_type": "markdown",
   "id": "cdd1d318-878d-40fc-b4ff-bc19f33d0c61",
   "metadata": {},
   "source": [
    "# working with data types"
   ]
  },
  {
   "cell_type": "code",
   "execution_count": 6,
   "id": "913bd3a1-e1c3-49c4-92fa-212d64637f2e",
   "metadata": {},
   "outputs": [],
   "source": [
    "# Code 3 different ways of reaching a result of 100"
   ]
  },
  {
   "cell_type": "code",
   "execution_count": 8,
   "id": "442d7a2d-6dee-4688-bea0-3cddbcb17d37",
   "metadata": {},
   "outputs": [],
   "source": [
    "x=51"
   ]
  },
  {
   "cell_type": "code",
   "execution_count": 10,
   "id": "facba5ec-a5e5-479f-8ea3-eeea6167f820",
   "metadata": {},
   "outputs": [],
   "source": [
    "y=49"
   ]
  },
  {
   "cell_type": "code",
   "execution_count": 12,
   "id": "2163df98-726d-4378-a2a5-405d40ad20c6",
   "metadata": {},
   "outputs": [
    {
     "data": {
      "text/plain": [
       "100"
      ]
     },
     "execution_count": 12,
     "metadata": {},
     "output_type": "execute_result"
    }
   ],
   "source": [
    "x+y"
   ]
  },
  {
   "cell_type": "code",
   "execution_count": 14,
   "id": "8f8604e9-d4cb-4c52-87bd-b07d7f3d2761",
   "metadata": {},
   "outputs": [],
   "source": [
    "x=250"
   ]
  },
  {
   "cell_type": "code",
   "execution_count": 16,
   "id": "96f8237c-77b3-413e-8e03-aba21664fba1",
   "metadata": {},
   "outputs": [],
   "source": [
    "y=150"
   ]
  },
  {
   "cell_type": "code",
   "execution_count": 18,
   "id": "5e2e6f28-4286-48bc-aaf1-3ae7342a29cb",
   "metadata": {},
   "outputs": [
    {
     "data": {
      "text/plain": [
       "100"
      ]
     },
     "execution_count": 18,
     "metadata": {},
     "output_type": "execute_result"
    }
   ],
   "source": [
    "x-y"
   ]
  },
  {
   "cell_type": "code",
   "execution_count": 20,
   "id": "b64eee1f-5be8-42b6-8b4f-32e7b159cc78",
   "metadata": {},
   "outputs": [],
   "source": [
    "x=10"
   ]
  },
  {
   "cell_type": "code",
   "execution_count": 22,
   "id": "76b7bb14-885b-4372-bf8e-92f154319880",
   "metadata": {},
   "outputs": [],
   "source": [
    "y=50"
   ]
  },
  {
   "cell_type": "code",
   "execution_count": 24,
   "id": "9bfacc2a-4adb-4005-a7e4-c44197f5e1d6",
   "metadata": {},
   "outputs": [],
   "source": [
    "z=40"
   ]
  },
  {
   "cell_type": "code",
   "execution_count": 26,
   "id": "b168a1c3-2b3b-4591-a70b-0f0886f1b36f",
   "metadata": {},
   "outputs": [
    {
     "data": {
      "text/plain": [
       "100"
      ]
     },
     "execution_count": 26,
     "metadata": {},
     "output_type": "execute_result"
    }
   ],
   "source": [
    "x+y+z"
   ]
  },
  {
   "cell_type": "code",
   "execution_count": 28,
   "id": "1870281d-2eee-4459-b789-c26d8b3c9fcd",
   "metadata": {},
   "outputs": [],
   "source": [
    "# Code 2 floating-point variables and divide them by each other"
   ]
  },
  {
   "cell_type": "code",
   "execution_count": 30,
   "id": "57c9ebea-0563-4d15-b8f4-b3ead294f841",
   "metadata": {},
   "outputs": [],
   "source": [
    "x=4.66"
   ]
  },
  {
   "cell_type": "code",
   "execution_count": 32,
   "id": "2e19c67c-f86e-488f-9092-10519837c289",
   "metadata": {},
   "outputs": [],
   "source": [
    "y=2.33"
   ]
  },
  {
   "cell_type": "code",
   "execution_count": 34,
   "id": "bda74d62-684a-47f1-9767-6c1c587f0abf",
   "metadata": {},
   "outputs": [
    {
     "data": {
      "text/plain": [
       "2.0"
      ]
     },
     "execution_count": 34,
     "metadata": {},
     "output_type": "execute_result"
    }
   ],
   "source": [
    "x/y"
   ]
  },
  {
   "cell_type": "code",
   "execution_count": 36,
   "id": "94309b6c-bc63-44dd-b598-b2fe4c89472c",
   "metadata": {},
   "outputs": [],
   "source": [
    "x=44.64"
   ]
  },
  {
   "cell_type": "code",
   "execution_count": 38,
   "id": "b513087a-ed39-4813-a2e4-4f547a42bb01",
   "metadata": {},
   "outputs": [],
   "source": [
    "y=3.78"
   ]
  },
  {
   "cell_type": "code",
   "execution_count": 40,
   "id": "a408b6f0-2810-4367-968c-a3ffda9386a9",
   "metadata": {},
   "outputs": [
    {
     "data": {
      "text/plain": [
       "11.80952380952381"
      ]
     },
     "execution_count": 40,
     "metadata": {},
     "output_type": "execute_result"
    }
   ],
   "source": [
    "x/y"
   ]
  },
  {
   "cell_type": "code",
   "execution_count": 42,
   "id": "03e3c27c-5535-4f21-ae11-f05cd8852969",
   "metadata": {},
   "outputs": [],
   "source": [
    "# Construct a short word made of separate strings"
   ]
  },
  {
   "cell_type": "code",
   "execution_count": 44,
   "id": "d3de7740-fa98-437e-a1d2-cbf371f6d8ad",
   "metadata": {},
   "outputs": [],
   "source": [
    "a='mary,'"
   ]
  },
  {
   "cell_type": "code",
   "execution_count": 46,
   "id": "3bd48537-bc49-45ac-b2bd-5bbc7013e35f",
   "metadata": {},
   "outputs": [],
   "source": [
    "b='sandy'"
   ]
  },
  {
   "cell_type": "code",
   "execution_count": 48,
   "id": "73d95172-7bbf-49d6-b6cb-8c8ce3b07850",
   "metadata": {},
   "outputs": [
    {
     "data": {
      "text/plain": [
       "'mary,sandy'"
      ]
     },
     "execution_count": 48,
     "metadata": {},
     "output_type": "execute_result"
    }
   ],
   "source": [
    "a+b"
   ]
  },
  {
   "cell_type": "code",
   "execution_count": 50,
   "id": "a475ef9b-753f-4815-9648-40012143305b",
   "metadata": {},
   "outputs": [],
   "source": [
    "# Construct a short word made of separate strings"
   ]
  },
  {
   "cell_type": "code",
   "execution_count": 60,
   "id": "d49fc849-3a71-4457-9185-e2863f0167f6",
   "metadata": {},
   "outputs": [],
   "source": [
    "x='my dog '"
   ]
  },
  {
   "cell_type": "code",
   "execution_count": 62,
   "id": "0f7a060a-9175-4bfe-9478-b7a25e13ea2e",
   "metadata": {},
   "outputs": [],
   "source": [
    "y='ate my '"
   ]
  },
  {
   "cell_type": "code",
   "execution_count": 64,
   "id": "cf8358c6-a84f-4076-8a53-d8231915de95",
   "metadata": {},
   "outputs": [],
   "source": [
    "z='biscuits'"
   ]
  },
  {
   "cell_type": "code",
   "execution_count": 66,
   "id": "6cd6b20b-3eb2-436f-9ad4-b1c471a064c3",
   "metadata": {},
   "outputs": [
    {
     "data": {
      "text/plain": [
       "'my dog ate my biscuits'"
      ]
     },
     "execution_count": 66,
     "metadata": {},
     "output_type": "execute_result"
    }
   ],
   "source": [
    "x+y+z"
   ]
  },
  {
   "cell_type": "code",
   "execution_count": 68,
   "id": "e7546ea2-65ed-4dcd-be67-ba20f0fa1497",
   "metadata": {},
   "outputs": [],
   "source": [
    "x='my car '"
   ]
  },
  {
   "cell_type": "code",
   "execution_count": 70,
   "id": "d18de0a4-da22-4bf5-a974-e785ea83d33c",
   "metadata": {},
   "outputs": [],
   "source": [
    "y='is good'"
   ]
  },
  {
   "cell_type": "code",
   "execution_count": 72,
   "id": "320f421f-6d2d-428e-9655-8bf80ef92751",
   "metadata": {},
   "outputs": [
    {
     "data": {
      "text/plain": [
       "'my car is good'"
      ]
     },
     "execution_count": 72,
     "metadata": {},
     "output_type": "execute_result"
    }
   ],
   "source": [
    "x+y"
   ]
  },
  {
   "cell_type": "code",
   "execution_count": null,
   "id": "16920b2e-8360-498c-a678-15db151b9ea9",
   "metadata": {},
   "outputs": [],
   "source": []
  }
 ],
 "metadata": {
  "kernelspec": {
   "display_name": "Python 3 (ipykernel)",
   "language": "python",
   "name": "python3"
  },
  "language_info": {
   "codemirror_mode": {
    "name": "ipython",
    "version": 3
   },
   "file_extension": ".py",
   "mimetype": "text/x-python",
   "name": "python",
   "nbconvert_exporter": "python",
   "pygments_lexer": "ipython3",
   "version": "3.11.7"
  }
 },
 "nbformat": 4,
 "nbformat_minor": 5
}
