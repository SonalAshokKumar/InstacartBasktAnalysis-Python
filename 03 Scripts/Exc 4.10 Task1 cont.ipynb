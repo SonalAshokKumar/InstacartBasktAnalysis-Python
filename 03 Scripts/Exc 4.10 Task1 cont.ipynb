{
 "cells": [
  {
   "cell_type": "markdown",
   "id": "5350f360-1f5e-4df0-b84a-5c8afe08adc7",
   "metadata": {},
   "source": [
    "# Importing libraries"
   ]
  },
  {
   "cell_type": "code",
   "execution_count": 3,
   "id": "2a7c3b76-d21a-41e0-817c-19afb8818afe",
   "metadata": {},
   "outputs": [],
   "source": [
    "import pandas as pd\n",
    "import numpy as np\n",
    "import os\n",
    "import matplotlib.pyplot as plt\n",
    "import seaborn as sns\n",
    "import scipy"
   ]
  },
  {
   "cell_type": "markdown",
   "id": "661d4b56-8841-445c-8f27-beb18a305110",
   "metadata": {},
   "source": [
    "# Import data"
   ]
  },
  {
   "cell_type": "code",
   "execution_count": 5,
   "id": "8235f521-1252-42ee-9d80-21e84a8b37db",
   "metadata": {},
   "outputs": [],
   "source": [
    "df=pd.read_pickle(r'D:\\Sonal\\career foundry\\CareerFoundry\\Data Immersion\\Achievement 4\\Exc 4.10\\Active_cust_new.pkl')"
   ]
  },
  {
   "cell_type": "code",
   "execution_count": 6,
   "id": "49666eee-4ec2-4de1-aaa4-2b445e875b96",
   "metadata": {},
   "outputs": [
    {
     "data": {
      "text/plain": [
       "(30171424, 40)"
      ]
     },
     "execution_count": 6,
     "metadata": {},
     "output_type": "execute_result"
    }
   ],
   "source": [
    "df.shape"
   ]
  },
  {
   "cell_type": "code",
   "execution_count": 7,
   "id": "165ea44f-8c84-41fd-90bd-508a3e7f4ed7",
   "metadata": {},
   "outputs": [],
   "source": [
    "path='D:\\Sonal\\career foundry\\CareerFoundry\\Data Immersion\\Achievement 4\\Exc 4.3'"
   ]
  },
  {
   "cell_type": "markdown",
   "id": "636c7ae8-6050-4b1d-883a-90da1935ba36",
   "metadata": {},
   "source": [
    "# Task 7"
   ]
  },
  {
   "cell_type": "code",
   "execution_count": 9,
   "id": "3b58edd8-46f9-410e-95ab-af3f77c75ce5",
   "metadata": {
    "jp-MarkdownHeadingCollapsed": true
   },
   "outputs": [],
   "source": [
    "# Aggregate the max, mean, and min variables on a customer-profile level for usage frequency and expenditure."
   ]
  },
  {
   "cell_type": "markdown",
   "id": "c96c724e-abb6-473d-87bd-7b02445f3ab4",
   "metadata": {},
   "source": [
    "This analysis will provides insights into customer behavior patterns, showing the range and typical values of how often they use the service and how much they spend. It helps identify high-value customers, occasional users, and overall usage trends."
   ]
  },
  {
   "cell_type": "code",
   "execution_count": 11,
   "id": "3c9968d4-335e-4734-b947-0c2b8b037fb6",
   "metadata": {},
   "outputs": [],
   "source": [
    "# Addressing the price column"
   ]
  },
  {
   "cell_type": "code",
   "execution_count": 12,
   "id": "f1b2f208-85eb-4896-b32a-990ed37c0383",
   "metadata": {},
   "outputs": [
    {
     "data": {
      "text/plain": [
       "count    3.017142e+07\n",
       "mean     1.185801e+01\n",
       "std      4.843390e+02\n",
       "min      1.000000e+00\n",
       "25%      4.200000e+00\n",
       "50%      7.400000e+00\n",
       "75%      1.130000e+01\n",
       "max      9.999900e+04\n",
       "Name: prices, dtype: float64"
      ]
     },
     "execution_count": 12,
     "metadata": {},
     "output_type": "execute_result"
    }
   ],
   "source": [
    "df['prices'].describe()"
   ]
  },
  {
   "cell_type": "code",
   "execution_count": 13,
   "id": "ec5e434b-2153-4686-9093-a52cd2e2e088",
   "metadata": {},
   "outputs": [],
   "source": [
    "df.loc[df['prices'] >100, 'prices'] = np.nan"
   ]
  },
  {
   "cell_type": "code",
   "execution_count": 14,
   "id": "8ee0ca20-fcbf-47fe-9819-d82156877508",
   "metadata": {},
   "outputs": [
    {
     "data": {
      "text/plain": [
       "25.0"
      ]
     },
     "execution_count": 14,
     "metadata": {},
     "output_type": "execute_result"
    }
   ],
   "source": [
    "df['prices'].max()"
   ]
  },
  {
   "cell_type": "code",
   "execution_count": 15,
   "id": "ca56fee4-8e8c-4d02-82af-64780e9a76e7",
   "metadata": {},
   "outputs": [
    {
     "data": {
      "text/html": [
       "<div>\n",
       "<style scoped>\n",
       "    .dataframe tbody tr th:only-of-type {\n",
       "        vertical-align: middle;\n",
       "    }\n",
       "\n",
       "    .dataframe tbody tr th {\n",
       "        vertical-align: top;\n",
       "    }\n",
       "\n",
       "    .dataframe thead th {\n",
       "        text-align: right;\n",
       "    }\n",
       "</style>\n",
       "<table border=\"1\" class=\"dataframe\">\n",
       "  <thead>\n",
       "    <tr style=\"text-align: right;\">\n",
       "      <th></th>\n",
       "      <th>product_id</th>\n",
       "      <th>product_name</th>\n",
       "      <th>aisle_id</th>\n",
       "      <th>department_id</th>\n",
       "      <th>prices</th>\n",
       "      <th>order_id</th>\n",
       "      <th>user_id</th>\n",
       "      <th>order_number</th>\n",
       "      <th>orders_day_of_week</th>\n",
       "      <th>order_hour_of_day</th>\n",
       "      <th>...</th>\n",
       "      <th>fam_status</th>\n",
       "      <th>income</th>\n",
       "      <th>_merge</th>\n",
       "      <th>region</th>\n",
       "      <th>activity_flag</th>\n",
       "      <th>age_group</th>\n",
       "      <th>income_group</th>\n",
       "      <th>day_group</th>\n",
       "      <th>Hour_group</th>\n",
       "      <th>Household size</th>\n",
       "    </tr>\n",
       "  </thead>\n",
       "  <tbody>\n",
       "    <tr>\n",
       "      <th>0</th>\n",
       "      <td>1</td>\n",
       "      <td>Chocolate Sandwich Cookies</td>\n",
       "      <td>61</td>\n",
       "      <td>19</td>\n",
       "      <td>5.8</td>\n",
       "      <td>3139998</td>\n",
       "      <td>138</td>\n",
       "      <td>28</td>\n",
       "      <td>6</td>\n",
       "      <td>11</td>\n",
       "      <td>...</td>\n",
       "      <td>married</td>\n",
       "      <td>49620</td>\n",
       "      <td>both</td>\n",
       "      <td>Midwest</td>\n",
       "      <td>high_activity_customers</td>\n",
       "      <td>Senior</td>\n",
       "      <td>Low Income</td>\n",
       "      <td>Weekday</td>\n",
       "      <td>Morning Shopper</td>\n",
       "      <td>Small</td>\n",
       "    </tr>\n",
       "    <tr>\n",
       "      <th>1</th>\n",
       "      <td>1</td>\n",
       "      <td>Chocolate Sandwich Cookies</td>\n",
       "      <td>61</td>\n",
       "      <td>19</td>\n",
       "      <td>5.8</td>\n",
       "      <td>1977647</td>\n",
       "      <td>138</td>\n",
       "      <td>30</td>\n",
       "      <td>6</td>\n",
       "      <td>17</td>\n",
       "      <td>...</td>\n",
       "      <td>married</td>\n",
       "      <td>49620</td>\n",
       "      <td>both</td>\n",
       "      <td>Midwest</td>\n",
       "      <td>high_activity_customers</td>\n",
       "      <td>Senior</td>\n",
       "      <td>Low Income</td>\n",
       "      <td>Weekday</td>\n",
       "      <td>Evening Shopper</td>\n",
       "      <td>Small</td>\n",
       "    </tr>\n",
       "    <tr>\n",
       "      <th>5</th>\n",
       "      <td>1</td>\n",
       "      <td>Chocolate Sandwich Cookies</td>\n",
       "      <td>61</td>\n",
       "      <td>19</td>\n",
       "      <td>5.8</td>\n",
       "      <td>1701441</td>\n",
       "      <td>777</td>\n",
       "      <td>16</td>\n",
       "      <td>1</td>\n",
       "      <td>7</td>\n",
       "      <td>...</td>\n",
       "      <td>married</td>\n",
       "      <td>57797</td>\n",
       "      <td>both</td>\n",
       "      <td>West</td>\n",
       "      <td>high_activity_customers</td>\n",
       "      <td>Mid Aged Adult</td>\n",
       "      <td>Mid Income</td>\n",
       "      <td>Weekend</td>\n",
       "      <td>Morning Shopper</td>\n",
       "      <td>Big</td>\n",
       "    </tr>\n",
       "    <tr>\n",
       "      <th>6</th>\n",
       "      <td>1</td>\n",
       "      <td>Chocolate Sandwich Cookies</td>\n",
       "      <td>61</td>\n",
       "      <td>19</td>\n",
       "      <td>5.8</td>\n",
       "      <td>1871483</td>\n",
       "      <td>825</td>\n",
       "      <td>3</td>\n",
       "      <td>2</td>\n",
       "      <td>14</td>\n",
       "      <td>...</td>\n",
       "      <td>living with parents and siblings</td>\n",
       "      <td>34171</td>\n",
       "      <td>both</td>\n",
       "      <td>South</td>\n",
       "      <td>high_activity_customers</td>\n",
       "      <td>Single Adult</td>\n",
       "      <td>Low Income</td>\n",
       "      <td>Weekday</td>\n",
       "      <td>Afternoon Shopper</td>\n",
       "      <td>Big</td>\n",
       "    </tr>\n",
       "    <tr>\n",
       "      <th>7</th>\n",
       "      <td>1</td>\n",
       "      <td>Chocolate Sandwich Cookies</td>\n",
       "      <td>61</td>\n",
       "      <td>19</td>\n",
       "      <td>5.8</td>\n",
       "      <td>1290456</td>\n",
       "      <td>910</td>\n",
       "      <td>12</td>\n",
       "      <td>3</td>\n",
       "      <td>10</td>\n",
       "      <td>...</td>\n",
       "      <td>divorced/widowed</td>\n",
       "      <td>44856</td>\n",
       "      <td>both</td>\n",
       "      <td>South</td>\n",
       "      <td>high_activity_customers</td>\n",
       "      <td>Senior</td>\n",
       "      <td>Low Income</td>\n",
       "      <td>Weekday</td>\n",
       "      <td>Morning Shopper</td>\n",
       "      <td>Small</td>\n",
       "    </tr>\n",
       "  </tbody>\n",
       "</table>\n",
       "<p>5 rows × 40 columns</p>\n",
       "</div>"
      ],
      "text/plain": [
       "   product_id                product_name  aisle_id  department_id  prices  \\\n",
       "0           1  Chocolate Sandwich Cookies        61             19     5.8   \n",
       "1           1  Chocolate Sandwich Cookies        61             19     5.8   \n",
       "5           1  Chocolate Sandwich Cookies        61             19     5.8   \n",
       "6           1  Chocolate Sandwich Cookies        61             19     5.8   \n",
       "7           1  Chocolate Sandwich Cookies        61             19     5.8   \n",
       "\n",
       "   order_id user_id  order_number  orders_day_of_week  order_hour_of_day  ...  \\\n",
       "0   3139998     138            28                   6                 11  ...   \n",
       "1   1977647     138            30                   6                 17  ...   \n",
       "5   1701441     777            16                   1                  7  ...   \n",
       "6   1871483     825             3                   2                 14  ...   \n",
       "7   1290456     910            12                   3                 10  ...   \n",
       "\n",
       "                         fam_status  income  _merge   region  \\\n",
       "0                           married   49620    both  Midwest   \n",
       "1                           married   49620    both  Midwest   \n",
       "5                           married   57797    both     West   \n",
       "6  living with parents and siblings   34171    both    South   \n",
       "7                  divorced/widowed   44856    both    South   \n",
       "\n",
       "             activity_flag       age_group income_group  day_group  \\\n",
       "0  high_activity_customers          Senior   Low Income    Weekday   \n",
       "1  high_activity_customers          Senior   Low Income    Weekday   \n",
       "5  high_activity_customers  Mid Aged Adult   Mid Income    Weekend   \n",
       "6  high_activity_customers    Single Adult   Low Income    Weekday   \n",
       "7  high_activity_customers          Senior   Low Income    Weekday   \n",
       "\n",
       "          Hour_group  Household size  \n",
       "0    Morning Shopper           Small  \n",
       "1    Evening Shopper           Small  \n",
       "5    Morning Shopper             Big  \n",
       "6  Afternoon Shopper             Big  \n",
       "7    Morning Shopper           Small  \n",
       "\n",
       "[5 rows x 40 columns]"
      ]
     },
     "execution_count": 15,
     "metadata": {},
     "output_type": "execute_result"
    }
   ],
   "source": [
    "df.head()"
   ]
  },
  {
   "cell_type": "code",
   "execution_count": 16,
   "id": "3f72bb87-f009-4e6f-97da-52c7d0ab1be7",
   "metadata": {},
   "outputs": [],
   "source": [
    "# Aggregation by age group"
   ]
  },
  {
   "cell_type": "code",
   "execution_count": 17,
   "id": "45bcb257-b151-49f2-adc8-c02b83fcff4a",
   "metadata": {},
   "outputs": [
    {
     "data": {
      "text/html": [
       "<div>\n",
       "<style scoped>\n",
       "    .dataframe tbody tr th:only-of-type {\n",
       "        vertical-align: middle;\n",
       "    }\n",
       "\n",
       "    .dataframe tbody tr th {\n",
       "        vertical-align: top;\n",
       "    }\n",
       "\n",
       "    .dataframe thead tr th {\n",
       "        text-align: left;\n",
       "    }\n",
       "\n",
       "    .dataframe thead tr:last-of-type th {\n",
       "        text-align: right;\n",
       "    }\n",
       "</style>\n",
       "<table border=\"1\" class=\"dataframe\">\n",
       "  <thead>\n",
       "    <tr>\n",
       "      <th></th>\n",
       "      <th colspan=\"3\" halign=\"left\">days_since_prior_order</th>\n",
       "      <th colspan=\"3\" halign=\"left\">prices</th>\n",
       "    </tr>\n",
       "    <tr>\n",
       "      <th></th>\n",
       "      <th>min</th>\n",
       "      <th>mean</th>\n",
       "      <th>max</th>\n",
       "      <th>min</th>\n",
       "      <th>mean</th>\n",
       "      <th>max</th>\n",
       "    </tr>\n",
       "    <tr>\n",
       "      <th>age_group</th>\n",
       "      <th></th>\n",
       "      <th></th>\n",
       "      <th></th>\n",
       "      <th></th>\n",
       "      <th></th>\n",
       "      <th></th>\n",
       "    </tr>\n",
       "  </thead>\n",
       "  <tbody>\n",
       "    <tr>\n",
       "      <th>Mid Aged Adult</th>\n",
       "      <td>0.0</td>\n",
       "      <td>10.641588</td>\n",
       "      <td>30.0</td>\n",
       "      <td>1.0</td>\n",
       "      <td>7.788484</td>\n",
       "      <td>25.0</td>\n",
       "    </tr>\n",
       "    <tr>\n",
       "      <th>Senior</th>\n",
       "      <td>0.0</td>\n",
       "      <td>10.626637</td>\n",
       "      <td>30.0</td>\n",
       "      <td>1.0</td>\n",
       "      <td>7.794923</td>\n",
       "      <td>25.0</td>\n",
       "    </tr>\n",
       "    <tr>\n",
       "      <th>Single Adult</th>\n",
       "      <td>0.0</td>\n",
       "      <td>10.665940</td>\n",
       "      <td>30.0</td>\n",
       "      <td>1.0</td>\n",
       "      <td>7.780394</td>\n",
       "      <td>25.0</td>\n",
       "    </tr>\n",
       "    <tr>\n",
       "      <th>Young Parent</th>\n",
       "      <td>0.0</td>\n",
       "      <td>10.608146</td>\n",
       "      <td>30.0</td>\n",
       "      <td>1.0</td>\n",
       "      <td>7.792569</td>\n",
       "      <td>25.0</td>\n",
       "    </tr>\n",
       "  </tbody>\n",
       "</table>\n",
       "</div>"
      ],
      "text/plain": [
       "               days_since_prior_order                  prices                \n",
       "                                  min       mean   max    min      mean   max\n",
       "age_group                                                                    \n",
       "Mid Aged Adult                    0.0  10.641588  30.0    1.0  7.788484  25.0\n",
       "Senior                            0.0  10.626637  30.0    1.0  7.794923  25.0\n",
       "Single Adult                      0.0  10.665940  30.0    1.0  7.780394  25.0\n",
       "Young Parent                      0.0  10.608146  30.0    1.0  7.792569  25.0"
      ]
     },
     "execution_count": 17,
     "metadata": {},
     "output_type": "execute_result"
    }
   ],
   "source": [
    "df.groupby('age_group').agg({'days_since_prior_order' : ['min', 'mean', 'max'], \n",
    "                                                                  'prices' : ['min', 'mean', 'max']})"
   ]
  },
  {
   "cell_type": "markdown",
   "id": "8a01b49b-3e45-4b70-8612-50f1bae4a6d4",
   "metadata": {},
   "source": [
    "This helps in understanding the shopping behavior and price sensitivity across different age groups."
   ]
  },
  {
   "cell_type": "code",
   "execution_count": 19,
   "id": "1d403148-8139-4f77-b2d3-179fc73fead0",
   "metadata": {},
   "outputs": [],
   "source": [
    "# Aggregation by income group"
   ]
  },
  {
   "cell_type": "code",
   "execution_count": 20,
   "id": "fc49df60-04ee-4ecb-8ad5-9a23694385b9",
   "metadata": {},
   "outputs": [
    {
     "data": {
      "text/html": [
       "<div>\n",
       "<style scoped>\n",
       "    .dataframe tbody tr th:only-of-type {\n",
       "        vertical-align: middle;\n",
       "    }\n",
       "\n",
       "    .dataframe tbody tr th {\n",
       "        vertical-align: top;\n",
       "    }\n",
       "\n",
       "    .dataframe thead tr th {\n",
       "        text-align: left;\n",
       "    }\n",
       "\n",
       "    .dataframe thead tr:last-of-type th {\n",
       "        text-align: right;\n",
       "    }\n",
       "</style>\n",
       "<table border=\"1\" class=\"dataframe\">\n",
       "  <thead>\n",
       "    <tr>\n",
       "      <th></th>\n",
       "      <th colspan=\"3\" halign=\"left\">days_since_prior_order</th>\n",
       "      <th colspan=\"3\" halign=\"left\">prices</th>\n",
       "    </tr>\n",
       "    <tr>\n",
       "      <th></th>\n",
       "      <th>min</th>\n",
       "      <th>mean</th>\n",
       "      <th>max</th>\n",
       "      <th>min</th>\n",
       "      <th>mean</th>\n",
       "      <th>max</th>\n",
       "    </tr>\n",
       "    <tr>\n",
       "      <th>income_group</th>\n",
       "      <th></th>\n",
       "      <th></th>\n",
       "      <th></th>\n",
       "      <th></th>\n",
       "      <th></th>\n",
       "      <th></th>\n",
       "    </tr>\n",
       "  </thead>\n",
       "  <tbody>\n",
       "    <tr>\n",
       "      <th>High Income</th>\n",
       "      <td>0.0</td>\n",
       "      <td>10.521101</td>\n",
       "      <td>30.0</td>\n",
       "      <td>1.0</td>\n",
       "      <td>7.937932</td>\n",
       "      <td>25.0</td>\n",
       "    </tr>\n",
       "    <tr>\n",
       "      <th>Low Income</th>\n",
       "      <td>0.0</td>\n",
       "      <td>10.943485</td>\n",
       "      <td>30.0</td>\n",
       "      <td>1.0</td>\n",
       "      <td>6.711410</td>\n",
       "      <td>25.0</td>\n",
       "    </tr>\n",
       "    <tr>\n",
       "      <th>Mid Income</th>\n",
       "      <td>0.0</td>\n",
       "      <td>10.608719</td>\n",
       "      <td>30.0</td>\n",
       "      <td>1.0</td>\n",
       "      <td>7.917255</td>\n",
       "      <td>25.0</td>\n",
       "    </tr>\n",
       "  </tbody>\n",
       "</table>\n",
       "</div>"
      ],
      "text/plain": [
       "             days_since_prior_order                  prices                \n",
       "                                min       mean   max    min      mean   max\n",
       "income_group                                                               \n",
       "High Income                     0.0  10.521101  30.0    1.0  7.937932  25.0\n",
       "Low Income                      0.0  10.943485  30.0    1.0  6.711410  25.0\n",
       "Mid Income                      0.0  10.608719  30.0    1.0  7.917255  25.0"
      ]
     },
     "execution_count": 20,
     "metadata": {},
     "output_type": "execute_result"
    }
   ],
   "source": [
    "df.groupby('income_group').agg({'days_since_prior_order' : ['min', 'mean', 'max'],\n",
    "                                                                        'prices' : ['min', 'mean', 'max']})"
   ]
  },
  {
   "cell_type": "markdown",
   "id": "94c84d73-6215-4bfa-9632-493efdc4c5b6",
   "metadata": {},
   "source": [
    " This helps in understanding the shopping behavior and price sensitivity across different income groups."
   ]
  },
  {
   "cell_type": "code",
   "execution_count": 22,
   "id": "4457164a-7da3-4c40-9f3a-286253faedfe",
   "metadata": {},
   "outputs": [],
   "source": [
    "# Aggregation by Household size"
   ]
  },
  {
   "cell_type": "code",
   "execution_count": 23,
   "id": "48c0efb4-066e-44e4-8b4a-1ffc92147c3c",
   "metadata": {},
   "outputs": [
    {
     "data": {
      "text/html": [
       "<div>\n",
       "<style scoped>\n",
       "    .dataframe tbody tr th:only-of-type {\n",
       "        vertical-align: middle;\n",
       "    }\n",
       "\n",
       "    .dataframe tbody tr th {\n",
       "        vertical-align: top;\n",
       "    }\n",
       "\n",
       "    .dataframe thead tr th {\n",
       "        text-align: left;\n",
       "    }\n",
       "\n",
       "    .dataframe thead tr:last-of-type th {\n",
       "        text-align: right;\n",
       "    }\n",
       "</style>\n",
       "<table border=\"1\" class=\"dataframe\">\n",
       "  <thead>\n",
       "    <tr>\n",
       "      <th></th>\n",
       "      <th colspan=\"3\" halign=\"left\">days_since_prior_order</th>\n",
       "      <th colspan=\"3\" halign=\"left\">prices</th>\n",
       "    </tr>\n",
       "    <tr>\n",
       "      <th></th>\n",
       "      <th>min</th>\n",
       "      <th>mean</th>\n",
       "      <th>max</th>\n",
       "      <th>min</th>\n",
       "      <th>mean</th>\n",
       "      <th>max</th>\n",
       "    </tr>\n",
       "    <tr>\n",
       "      <th>Household size</th>\n",
       "      <th></th>\n",
       "      <th></th>\n",
       "      <th></th>\n",
       "      <th></th>\n",
       "      <th></th>\n",
       "      <th></th>\n",
       "    </tr>\n",
       "  </thead>\n",
       "  <tbody>\n",
       "    <tr>\n",
       "      <th>Big</th>\n",
       "      <td>0.0</td>\n",
       "      <td>10.647296</td>\n",
       "      <td>30.0</td>\n",
       "      <td>1.0</td>\n",
       "      <td>7.787636</td>\n",
       "      <td>25.0</td>\n",
       "    </tr>\n",
       "    <tr>\n",
       "      <th>Small</th>\n",
       "      <td>0.0</td>\n",
       "      <td>10.619849</td>\n",
       "      <td>30.0</td>\n",
       "      <td>1.0</td>\n",
       "      <td>7.792359</td>\n",
       "      <td>25.0</td>\n",
       "    </tr>\n",
       "  </tbody>\n",
       "</table>\n",
       "</div>"
      ],
      "text/plain": [
       "               days_since_prior_order                  prices                \n",
       "                                  min       mean   max    min      mean   max\n",
       "Household size                                                               \n",
       "Big                               0.0  10.647296  30.0    1.0  7.787636  25.0\n",
       "Small                             0.0  10.619849  30.0    1.0  7.792359  25.0"
      ]
     },
     "execution_count": 23,
     "metadata": {},
     "output_type": "execute_result"
    }
   ],
   "source": [
    "df.groupby('Household size').agg({'days_since_prior_order' : ['min', 'mean', 'max'],\n",
    "                                                                        'prices' : ['min', 'mean', 'max']})\n"
   ]
  },
  {
   "cell_type": "markdown",
   "id": "03b1688f-6d8e-40d2-8148-279f0cd9a3e1",
   "metadata": {},
   "source": [
    " This helps in understanding the shopping behavior and price sensitivity across different household sizes."
   ]
  },
  {
   "cell_type": "markdown",
   "id": "64d1053b-4b7c-499a-9341-ca2f15547b95",
   "metadata": {},
   "source": [
    "# Import department dataframe"
   ]
  },
  {
   "cell_type": "code",
   "execution_count": 26,
   "id": "fb8a013d-0264-4015-8e88-97e18e01ecc2",
   "metadata": {},
   "outputs": [],
   "source": [
    "df_dep=pd.read_csv(r'D:\\Sonal\\career foundry\\CareerFoundry\\Data Immersion\\Achievement 4\\Exc 4.3\\Prepared data\\departments_wrangled.csv',index_col=False)"
   ]
  },
  {
   "cell_type": "code",
   "execution_count": 27,
   "id": "380998b0-5925-4056-a96d-766ac9a45e31",
   "metadata": {},
   "outputs": [
    {
     "data": {
      "text/html": [
       "<div>\n",
       "<style scoped>\n",
       "    .dataframe tbody tr th:only-of-type {\n",
       "        vertical-align: middle;\n",
       "    }\n",
       "\n",
       "    .dataframe tbody tr th {\n",
       "        vertical-align: top;\n",
       "    }\n",
       "\n",
       "    .dataframe thead th {\n",
       "        text-align: right;\n",
       "    }\n",
       "</style>\n",
       "<table border=\"1\" class=\"dataframe\">\n",
       "  <thead>\n",
       "    <tr style=\"text-align: right;\">\n",
       "      <th></th>\n",
       "      <th>Unnamed: 0</th>\n",
       "      <th>department</th>\n",
       "    </tr>\n",
       "  </thead>\n",
       "  <tbody>\n",
       "    <tr>\n",
       "      <th>0</th>\n",
       "      <td>1</td>\n",
       "      <td>frozen</td>\n",
       "    </tr>\n",
       "    <tr>\n",
       "      <th>1</th>\n",
       "      <td>2</td>\n",
       "      <td>other</td>\n",
       "    </tr>\n",
       "    <tr>\n",
       "      <th>2</th>\n",
       "      <td>3</td>\n",
       "      <td>bakery</td>\n",
       "    </tr>\n",
       "    <tr>\n",
       "      <th>3</th>\n",
       "      <td>4</td>\n",
       "      <td>produce</td>\n",
       "    </tr>\n",
       "    <tr>\n",
       "      <th>4</th>\n",
       "      <td>5</td>\n",
       "      <td>alcohol</td>\n",
       "    </tr>\n",
       "    <tr>\n",
       "      <th>5</th>\n",
       "      <td>6</td>\n",
       "      <td>international</td>\n",
       "    </tr>\n",
       "    <tr>\n",
       "      <th>6</th>\n",
       "      <td>7</td>\n",
       "      <td>beverages</td>\n",
       "    </tr>\n",
       "    <tr>\n",
       "      <th>7</th>\n",
       "      <td>8</td>\n",
       "      <td>pets</td>\n",
       "    </tr>\n",
       "    <tr>\n",
       "      <th>8</th>\n",
       "      <td>9</td>\n",
       "      <td>dry goods pasta</td>\n",
       "    </tr>\n",
       "    <tr>\n",
       "      <th>9</th>\n",
       "      <td>10</td>\n",
       "      <td>bulk</td>\n",
       "    </tr>\n",
       "    <tr>\n",
       "      <th>10</th>\n",
       "      <td>11</td>\n",
       "      <td>personal care</td>\n",
       "    </tr>\n",
       "    <tr>\n",
       "      <th>11</th>\n",
       "      <td>12</td>\n",
       "      <td>meat seafood</td>\n",
       "    </tr>\n",
       "    <tr>\n",
       "      <th>12</th>\n",
       "      <td>13</td>\n",
       "      <td>pantry</td>\n",
       "    </tr>\n",
       "    <tr>\n",
       "      <th>13</th>\n",
       "      <td>14</td>\n",
       "      <td>breakfast</td>\n",
       "    </tr>\n",
       "    <tr>\n",
       "      <th>14</th>\n",
       "      <td>15</td>\n",
       "      <td>canned goods</td>\n",
       "    </tr>\n",
       "    <tr>\n",
       "      <th>15</th>\n",
       "      <td>16</td>\n",
       "      <td>dairy eggs</td>\n",
       "    </tr>\n",
       "    <tr>\n",
       "      <th>16</th>\n",
       "      <td>17</td>\n",
       "      <td>household</td>\n",
       "    </tr>\n",
       "    <tr>\n",
       "      <th>17</th>\n",
       "      <td>18</td>\n",
       "      <td>babies</td>\n",
       "    </tr>\n",
       "    <tr>\n",
       "      <th>18</th>\n",
       "      <td>19</td>\n",
       "      <td>snacks</td>\n",
       "    </tr>\n",
       "    <tr>\n",
       "      <th>19</th>\n",
       "      <td>20</td>\n",
       "      <td>deli</td>\n",
       "    </tr>\n",
       "    <tr>\n",
       "      <th>20</th>\n",
       "      <td>21</td>\n",
       "      <td>missing</td>\n",
       "    </tr>\n",
       "  </tbody>\n",
       "</table>\n",
       "</div>"
      ],
      "text/plain": [
       "    Unnamed: 0       department\n",
       "0            1           frozen\n",
       "1            2            other\n",
       "2            3           bakery\n",
       "3            4          produce\n",
       "4            5          alcohol\n",
       "5            6    international\n",
       "6            7        beverages\n",
       "7            8             pets\n",
       "8            9  dry goods pasta\n",
       "9           10             bulk\n",
       "10          11    personal care\n",
       "11          12     meat seafood\n",
       "12          13           pantry\n",
       "13          14        breakfast\n",
       "14          15     canned goods\n",
       "15          16       dairy eggs\n",
       "16          17        household\n",
       "17          18           babies\n",
       "18          19           snacks\n",
       "19          20             deli\n",
       "20          21          missing"
      ]
     },
     "execution_count": 27,
     "metadata": {},
     "output_type": "execute_result"
    }
   ],
   "source": [
    "df_dep"
   ]
  },
  {
   "cell_type": "code",
   "execution_count": 28,
   "id": "66d52e9d-340c-451c-abba-123710f019d3",
   "metadata": {},
   "outputs": [],
   "source": [
    "df_dep.rename(columns={'Unnamed: 0': 'department_id'}, inplace=True)"
   ]
  },
  {
   "cell_type": "code",
   "execution_count": 29,
   "id": "74f317f1-853d-4952-9680-fa277f962a25",
   "metadata": {},
   "outputs": [
    {
     "data": {
      "text/html": [
       "<div>\n",
       "<style scoped>\n",
       "    .dataframe tbody tr th:only-of-type {\n",
       "        vertical-align: middle;\n",
       "    }\n",
       "\n",
       "    .dataframe tbody tr th {\n",
       "        vertical-align: top;\n",
       "    }\n",
       "\n",
       "    .dataframe thead th {\n",
       "        text-align: right;\n",
       "    }\n",
       "</style>\n",
       "<table border=\"1\" class=\"dataframe\">\n",
       "  <thead>\n",
       "    <tr style=\"text-align: right;\">\n",
       "      <th></th>\n",
       "      <th>department_id</th>\n",
       "      <th>department</th>\n",
       "    </tr>\n",
       "  </thead>\n",
       "  <tbody>\n",
       "    <tr>\n",
       "      <th>0</th>\n",
       "      <td>1</td>\n",
       "      <td>frozen</td>\n",
       "    </tr>\n",
       "    <tr>\n",
       "      <th>1</th>\n",
       "      <td>2</td>\n",
       "      <td>other</td>\n",
       "    </tr>\n",
       "    <tr>\n",
       "      <th>2</th>\n",
       "      <td>3</td>\n",
       "      <td>bakery</td>\n",
       "    </tr>\n",
       "    <tr>\n",
       "      <th>3</th>\n",
       "      <td>4</td>\n",
       "      <td>produce</td>\n",
       "    </tr>\n",
       "    <tr>\n",
       "      <th>4</th>\n",
       "      <td>5</td>\n",
       "      <td>alcohol</td>\n",
       "    </tr>\n",
       "    <tr>\n",
       "      <th>5</th>\n",
       "      <td>6</td>\n",
       "      <td>international</td>\n",
       "    </tr>\n",
       "    <tr>\n",
       "      <th>6</th>\n",
       "      <td>7</td>\n",
       "      <td>beverages</td>\n",
       "    </tr>\n",
       "    <tr>\n",
       "      <th>7</th>\n",
       "      <td>8</td>\n",
       "      <td>pets</td>\n",
       "    </tr>\n",
       "    <tr>\n",
       "      <th>8</th>\n",
       "      <td>9</td>\n",
       "      <td>dry goods pasta</td>\n",
       "    </tr>\n",
       "    <tr>\n",
       "      <th>9</th>\n",
       "      <td>10</td>\n",
       "      <td>bulk</td>\n",
       "    </tr>\n",
       "    <tr>\n",
       "      <th>10</th>\n",
       "      <td>11</td>\n",
       "      <td>personal care</td>\n",
       "    </tr>\n",
       "    <tr>\n",
       "      <th>11</th>\n",
       "      <td>12</td>\n",
       "      <td>meat seafood</td>\n",
       "    </tr>\n",
       "    <tr>\n",
       "      <th>12</th>\n",
       "      <td>13</td>\n",
       "      <td>pantry</td>\n",
       "    </tr>\n",
       "    <tr>\n",
       "      <th>13</th>\n",
       "      <td>14</td>\n",
       "      <td>breakfast</td>\n",
       "    </tr>\n",
       "    <tr>\n",
       "      <th>14</th>\n",
       "      <td>15</td>\n",
       "      <td>canned goods</td>\n",
       "    </tr>\n",
       "    <tr>\n",
       "      <th>15</th>\n",
       "      <td>16</td>\n",
       "      <td>dairy eggs</td>\n",
       "    </tr>\n",
       "    <tr>\n",
       "      <th>16</th>\n",
       "      <td>17</td>\n",
       "      <td>household</td>\n",
       "    </tr>\n",
       "    <tr>\n",
       "      <th>17</th>\n",
       "      <td>18</td>\n",
       "      <td>babies</td>\n",
       "    </tr>\n",
       "    <tr>\n",
       "      <th>18</th>\n",
       "      <td>19</td>\n",
       "      <td>snacks</td>\n",
       "    </tr>\n",
       "    <tr>\n",
       "      <th>19</th>\n",
       "      <td>20</td>\n",
       "      <td>deli</td>\n",
       "    </tr>\n",
       "    <tr>\n",
       "      <th>20</th>\n",
       "      <td>21</td>\n",
       "      <td>missing</td>\n",
       "    </tr>\n",
       "  </tbody>\n",
       "</table>\n",
       "</div>"
      ],
      "text/plain": [
       "    department_id       department\n",
       "0               1           frozen\n",
       "1               2            other\n",
       "2               3           bakery\n",
       "3               4          produce\n",
       "4               5          alcohol\n",
       "5               6    international\n",
       "6               7        beverages\n",
       "7               8             pets\n",
       "8               9  dry goods pasta\n",
       "9              10             bulk\n",
       "10             11    personal care\n",
       "11             12     meat seafood\n",
       "12             13           pantry\n",
       "13             14        breakfast\n",
       "14             15     canned goods\n",
       "15             16       dairy eggs\n",
       "16             17        household\n",
       "17             18           babies\n",
       "18             19           snacks\n",
       "19             20             deli\n",
       "20             21          missing"
      ]
     },
     "execution_count": 29,
     "metadata": {},
     "output_type": "execute_result"
    }
   ],
   "source": [
    "df_dep"
   ]
  },
  {
   "cell_type": "code",
   "execution_count": 30,
   "id": "b41fb18a-380c-4830-99ca-f56ed37816e6",
   "metadata": {},
   "outputs": [
    {
     "data": {
      "text/plain": [
       "department_id     int64\n",
       "department       object\n",
       "dtype: object"
      ]
     },
     "execution_count": 30,
     "metadata": {},
     "output_type": "execute_result"
    }
   ],
   "source": [
    "df_dep.dtypes"
   ]
  },
  {
   "cell_type": "code",
   "execution_count": 31,
   "id": "145cc4b3-7664-417c-b6b2-96428e909673",
   "metadata": {},
   "outputs": [
    {
     "data": {
      "text/plain": [
       "(21, 2)"
      ]
     },
     "execution_count": 31,
     "metadata": {},
     "output_type": "execute_result"
    }
   ],
   "source": [
    "df_dep.shape"
   ]
  },
  {
   "cell_type": "markdown",
   "id": "10b480ab-7c65-4450-9f3c-5621121a32da",
   "metadata": {},
   "source": [
    "# Merge the data"
   ]
  },
  {
   "cell_type": "code",
   "execution_count": 33,
   "id": "ad653b89-e7e3-48c0-a824-1015dd42cfbc",
   "metadata": {},
   "outputs": [],
   "source": [
    "df_merged=df.merge(df_dep, on =['department_id'], indicator='merge_indicator')"
   ]
  },
  {
   "cell_type": "code",
   "execution_count": 34,
   "id": "63b946d9-1b14-4abd-89ea-81526c17e7c5",
   "metadata": {},
   "outputs": [],
   "source": [
    "# Creating crosstab for region and department"
   ]
  },
  {
   "cell_type": "code",
   "execution_count": 35,
   "id": "a96195a3-9e78-44fc-b5f3-274a4b3bca59",
   "metadata": {},
   "outputs": [],
   "source": [
    "region_department=pd.crosstab(df_merged['region'], df_merged['department'], dropna=False)"
   ]
  },
  {
   "cell_type": "code",
   "execution_count": 36,
   "id": "89c0d60a-b9cf-4a1e-8d3e-df7f7786aa3a",
   "metadata": {},
   "outputs": [
    {
     "data": {
      "text/html": [
       "<div>\n",
       "<style scoped>\n",
       "    .dataframe tbody tr th:only-of-type {\n",
       "        vertical-align: middle;\n",
       "    }\n",
       "\n",
       "    .dataframe tbody tr th {\n",
       "        vertical-align: top;\n",
       "    }\n",
       "\n",
       "    .dataframe thead th {\n",
       "        text-align: right;\n",
       "    }\n",
       "</style>\n",
       "<table border=\"1\" class=\"dataframe\">\n",
       "  <thead>\n",
       "    <tr style=\"text-align: right;\">\n",
       "      <th>department</th>\n",
       "      <th>alcohol</th>\n",
       "      <th>babies</th>\n",
       "      <th>bakery</th>\n",
       "      <th>beverages</th>\n",
       "      <th>breakfast</th>\n",
       "      <th>bulk</th>\n",
       "      <th>canned goods</th>\n",
       "      <th>dairy eggs</th>\n",
       "      <th>deli</th>\n",
       "      <th>dry goods pasta</th>\n",
       "      <th>...</th>\n",
       "      <th>household</th>\n",
       "      <th>international</th>\n",
       "      <th>meat seafood</th>\n",
       "      <th>missing</th>\n",
       "      <th>other</th>\n",
       "      <th>pantry</th>\n",
       "      <th>personal care</th>\n",
       "      <th>pets</th>\n",
       "      <th>produce</th>\n",
       "      <th>snacks</th>\n",
       "    </tr>\n",
       "    <tr>\n",
       "      <th>region</th>\n",
       "      <th></th>\n",
       "      <th></th>\n",
       "      <th></th>\n",
       "      <th></th>\n",
       "      <th></th>\n",
       "      <th></th>\n",
       "      <th></th>\n",
       "      <th></th>\n",
       "      <th></th>\n",
       "      <th></th>\n",
       "      <th></th>\n",
       "      <th></th>\n",
       "      <th></th>\n",
       "      <th></th>\n",
       "      <th></th>\n",
       "      <th></th>\n",
       "      <th></th>\n",
       "      <th></th>\n",
       "      <th></th>\n",
       "      <th></th>\n",
       "      <th></th>\n",
       "    </tr>\n",
       "  </thead>\n",
       "  <tbody>\n",
       "    <tr>\n",
       "      <th>Midwest</th>\n",
       "      <td>32883</td>\n",
       "      <td>94027</td>\n",
       "      <td>255082</td>\n",
       "      <td>583228</td>\n",
       "      <td>151846</td>\n",
       "      <td>7806</td>\n",
       "      <td>230173</td>\n",
       "      <td>1182974</td>\n",
       "      <td>228200</td>\n",
       "      <td>187653</td>\n",
       "      <td>...</td>\n",
       "      <td>161733</td>\n",
       "      <td>58854</td>\n",
       "      <td>153688</td>\n",
       "      <td>15056</td>\n",
       "      <td>7737</td>\n",
       "      <td>408085</td>\n",
       "      <td>97357</td>\n",
       "      <td>20748</td>\n",
       "      <td>2080206</td>\n",
       "      <td>629156</td>\n",
       "    </tr>\n",
       "    <tr>\n",
       "      <th>Northeast</th>\n",
       "      <td>24114</td>\n",
       "      <td>71370</td>\n",
       "      <td>194076</td>\n",
       "      <td>451674</td>\n",
       "      <td>114701</td>\n",
       "      <td>5482</td>\n",
       "      <td>171517</td>\n",
       "      <td>892624</td>\n",
       "      <td>173837</td>\n",
       "      <td>139489</td>\n",
       "      <td>...</td>\n",
       "      <td>120839</td>\n",
       "      <td>43342</td>\n",
       "      <td>115204</td>\n",
       "      <td>11104</td>\n",
       "      <td>6060</td>\n",
       "      <td>303892</td>\n",
       "      <td>72593</td>\n",
       "      <td>17242</td>\n",
       "      <td>1554985</td>\n",
       "      <td>481100</td>\n",
       "    </tr>\n",
       "    <tr>\n",
       "      <th>South</th>\n",
       "      <td>47069</td>\n",
       "      <td>136961</td>\n",
       "      <td>362204</td>\n",
       "      <td>837788</td>\n",
       "      <td>217548</td>\n",
       "      <td>10953</td>\n",
       "      <td>327746</td>\n",
       "      <td>1682429</td>\n",
       "      <td>325082</td>\n",
       "      <td>264766</td>\n",
       "      <td>...</td>\n",
       "      <td>222964</td>\n",
       "      <td>82329</td>\n",
       "      <td>217724</td>\n",
       "      <td>21024</td>\n",
       "      <td>11273</td>\n",
       "      <td>575074</td>\n",
       "      <td>138415</td>\n",
       "      <td>28893</td>\n",
       "      <td>2955891</td>\n",
       "      <td>894880</td>\n",
       "    </tr>\n",
       "    <tr>\n",
       "      <th>West</th>\n",
       "      <td>35507</td>\n",
       "      <td>100708</td>\n",
       "      <td>281126</td>\n",
       "      <td>634551</td>\n",
       "      <td>169324</td>\n",
       "      <td>8600</td>\n",
       "      <td>252605</td>\n",
       "      <td>1295413</td>\n",
       "      <td>250931</td>\n",
       "      <td>205775</td>\n",
       "      <td>...</td>\n",
       "      <td>172759</td>\n",
       "      <td>64197</td>\n",
       "      <td>169113</td>\n",
       "      <td>15357</td>\n",
       "      <td>8345</td>\n",
       "      <td>445063</td>\n",
       "      <td>103442</td>\n",
       "      <td>23456</td>\n",
       "      <td>2268862</td>\n",
       "      <td>694215</td>\n",
       "    </tr>\n",
       "  </tbody>\n",
       "</table>\n",
       "<p>4 rows × 21 columns</p>\n",
       "</div>"
      ],
      "text/plain": [
       "department  alcohol  babies  bakery  beverages  breakfast   bulk  \\\n",
       "region                                                             \n",
       "Midwest       32883   94027  255082     583228     151846   7806   \n",
       "Northeast     24114   71370  194076     451674     114701   5482   \n",
       "South         47069  136961  362204     837788     217548  10953   \n",
       "West          35507  100708  281126     634551     169324   8600   \n",
       "\n",
       "department  canned goods  dairy eggs    deli  dry goods pasta  ...  household  \\\n",
       "region                                                         ...              \n",
       "Midwest           230173     1182974  228200           187653  ...     161733   \n",
       "Northeast         171517      892624  173837           139489  ...     120839   \n",
       "South             327746     1682429  325082           264766  ...     222964   \n",
       "West              252605     1295413  250931           205775  ...     172759   \n",
       "\n",
       "department  international  meat seafood  missing  other  pantry  \\\n",
       "region                                                            \n",
       "Midwest             58854        153688    15056   7737  408085   \n",
       "Northeast           43342        115204    11104   6060  303892   \n",
       "South               82329        217724    21024  11273  575074   \n",
       "West                64197        169113    15357   8345  445063   \n",
       "\n",
       "department  personal care   pets  produce  snacks  \n",
       "region                                             \n",
       "Midwest             97357  20748  2080206  629156  \n",
       "Northeast           72593  17242  1554985  481100  \n",
       "South              138415  28893  2955891  894880  \n",
       "West               103442  23456  2268862  694215  \n",
       "\n",
       "[4 rows x 21 columns]"
      ]
     },
     "execution_count": 36,
     "metadata": {},
     "output_type": "execute_result"
    }
   ],
   "source": [
    "region_department"
   ]
  },
  {
   "cell_type": "code",
   "execution_count": 37,
   "id": "7b6455ff-98cf-44f7-b3e8-dc71d5ee5f75",
   "metadata": {},
   "outputs": [
    {
     "data": {
      "text/html": [
       "<div>\n",
       "<style scoped>\n",
       "    .dataframe tbody tr th:only-of-type {\n",
       "        vertical-align: middle;\n",
       "    }\n",
       "\n",
       "    .dataframe tbody tr th {\n",
       "        vertical-align: top;\n",
       "    }\n",
       "\n",
       "    .dataframe thead th {\n",
       "        text-align: right;\n",
       "    }\n",
       "</style>\n",
       "<table border=\"1\" class=\"dataframe\">\n",
       "  <thead>\n",
       "    <tr style=\"text-align: right;\">\n",
       "      <th>region</th>\n",
       "      <th>Midwest</th>\n",
       "      <th>Northeast</th>\n",
       "      <th>South</th>\n",
       "      <th>West</th>\n",
       "    </tr>\n",
       "    <tr>\n",
       "      <th>department</th>\n",
       "      <th></th>\n",
       "      <th></th>\n",
       "      <th></th>\n",
       "      <th></th>\n",
       "    </tr>\n",
       "  </thead>\n",
       "  <tbody>\n",
       "    <tr>\n",
       "      <th>alcohol</th>\n",
       "      <td>32883</td>\n",
       "      <td>24114</td>\n",
       "      <td>47069</td>\n",
       "      <td>35507</td>\n",
       "    </tr>\n",
       "    <tr>\n",
       "      <th>babies</th>\n",
       "      <td>94027</td>\n",
       "      <td>71370</td>\n",
       "      <td>136961</td>\n",
       "      <td>100708</td>\n",
       "    </tr>\n",
       "    <tr>\n",
       "      <th>bakery</th>\n",
       "      <td>255082</td>\n",
       "      <td>194076</td>\n",
       "      <td>362204</td>\n",
       "      <td>281126</td>\n",
       "    </tr>\n",
       "    <tr>\n",
       "      <th>beverages</th>\n",
       "      <td>583228</td>\n",
       "      <td>451674</td>\n",
       "      <td>837788</td>\n",
       "      <td>634551</td>\n",
       "    </tr>\n",
       "    <tr>\n",
       "      <th>breakfast</th>\n",
       "      <td>151846</td>\n",
       "      <td>114701</td>\n",
       "      <td>217548</td>\n",
       "      <td>169324</td>\n",
       "    </tr>\n",
       "    <tr>\n",
       "      <th>bulk</th>\n",
       "      <td>7806</td>\n",
       "      <td>5482</td>\n",
       "      <td>10953</td>\n",
       "      <td>8600</td>\n",
       "    </tr>\n",
       "    <tr>\n",
       "      <th>canned goods</th>\n",
       "      <td>230173</td>\n",
       "      <td>171517</td>\n",
       "      <td>327746</td>\n",
       "      <td>252605</td>\n",
       "    </tr>\n",
       "    <tr>\n",
       "      <th>dairy eggs</th>\n",
       "      <td>1182974</td>\n",
       "      <td>892624</td>\n",
       "      <td>1682429</td>\n",
       "      <td>1295413</td>\n",
       "    </tr>\n",
       "    <tr>\n",
       "      <th>deli</th>\n",
       "      <td>228200</td>\n",
       "      <td>173837</td>\n",
       "      <td>325082</td>\n",
       "      <td>250931</td>\n",
       "    </tr>\n",
       "    <tr>\n",
       "      <th>dry goods pasta</th>\n",
       "      <td>187653</td>\n",
       "      <td>139489</td>\n",
       "      <td>264766</td>\n",
       "      <td>205775</td>\n",
       "    </tr>\n",
       "    <tr>\n",
       "      <th>frozen</th>\n",
       "      <td>483630</td>\n",
       "      <td>359106</td>\n",
       "      <td>689146</td>\n",
       "      <td>527443</td>\n",
       "    </tr>\n",
       "    <tr>\n",
       "      <th>household</th>\n",
       "      <td>161733</td>\n",
       "      <td>120839</td>\n",
       "      <td>222964</td>\n",
       "      <td>172759</td>\n",
       "    </tr>\n",
       "    <tr>\n",
       "      <th>international</th>\n",
       "      <td>58854</td>\n",
       "      <td>43342</td>\n",
       "      <td>82329</td>\n",
       "      <td>64197</td>\n",
       "    </tr>\n",
       "    <tr>\n",
       "      <th>meat seafood</th>\n",
       "      <td>153688</td>\n",
       "      <td>115204</td>\n",
       "      <td>217724</td>\n",
       "      <td>169113</td>\n",
       "    </tr>\n",
       "    <tr>\n",
       "      <th>missing</th>\n",
       "      <td>15056</td>\n",
       "      <td>11104</td>\n",
       "      <td>21024</td>\n",
       "      <td>15357</td>\n",
       "    </tr>\n",
       "    <tr>\n",
       "      <th>other</th>\n",
       "      <td>7737</td>\n",
       "      <td>6060</td>\n",
       "      <td>11273</td>\n",
       "      <td>8345</td>\n",
       "    </tr>\n",
       "    <tr>\n",
       "      <th>pantry</th>\n",
       "      <td>408085</td>\n",
       "      <td>303892</td>\n",
       "      <td>575074</td>\n",
       "      <td>445063</td>\n",
       "    </tr>\n",
       "    <tr>\n",
       "      <th>personal care</th>\n",
       "      <td>97357</td>\n",
       "      <td>72593</td>\n",
       "      <td>138415</td>\n",
       "      <td>103442</td>\n",
       "    </tr>\n",
       "    <tr>\n",
       "      <th>pets</th>\n",
       "      <td>20748</td>\n",
       "      <td>17242</td>\n",
       "      <td>28893</td>\n",
       "      <td>23456</td>\n",
       "    </tr>\n",
       "    <tr>\n",
       "      <th>produce</th>\n",
       "      <td>2080206</td>\n",
       "      <td>1554985</td>\n",
       "      <td>2955891</td>\n",
       "      <td>2268862</td>\n",
       "    </tr>\n",
       "    <tr>\n",
       "      <th>snacks</th>\n",
       "      <td>629156</td>\n",
       "      <td>481100</td>\n",
       "      <td>894880</td>\n",
       "      <td>694215</td>\n",
       "    </tr>\n",
       "  </tbody>\n",
       "</table>\n",
       "</div>"
      ],
      "text/plain": [
       "region           Midwest  Northeast    South     West\n",
       "department                                           \n",
       "alcohol            32883      24114    47069    35507\n",
       "babies             94027      71370   136961   100708\n",
       "bakery            255082     194076   362204   281126\n",
       "beverages         583228     451674   837788   634551\n",
       "breakfast         151846     114701   217548   169324\n",
       "bulk                7806       5482    10953     8600\n",
       "canned goods      230173     171517   327746   252605\n",
       "dairy eggs       1182974     892624  1682429  1295413\n",
       "deli              228200     173837   325082   250931\n",
       "dry goods pasta   187653     139489   264766   205775\n",
       "frozen            483630     359106   689146   527443\n",
       "household         161733     120839   222964   172759\n",
       "international      58854      43342    82329    64197\n",
       "meat seafood      153688     115204   217724   169113\n",
       "missing            15056      11104    21024    15357\n",
       "other               7737       6060    11273     8345\n",
       "pantry            408085     303892   575074   445063\n",
       "personal care      97357      72593   138415   103442\n",
       "pets               20748      17242    28893    23456\n",
       "produce          2080206    1554985  2955891  2268862\n",
       "snacks            629156     481100   894880   694215"
      ]
     },
     "execution_count": 37,
     "metadata": {},
     "output_type": "execute_result"
    }
   ],
   "source": [
    "region_department.T"
   ]
  },
  {
   "cell_type": "code",
   "execution_count": 133,
   "id": "558db408-9852-44cb-a559-c58e49e4d997",
   "metadata": {},
   "outputs": [
    {
     "data": {
      "image/png": "[encoded data removed]",
      "text/plain": [
       "<Figure size 640x480 with 1 Axes>"
      ]
     },
     "metadata": {},
     "output_type": "display_data"
    }
   ],
   "source": [
    "Bar =df_merged.department.value_counts().sort_values().plot(kind = 'barh')"
   ]
  },
  {
   "cell_type": "code",
   "execution_count": 137,
   "id": "e74f54ee-b1e2-495d-87de-d30351fac11b",
   "metadata": {},
   "outputs": [],
   "source": [
    "Bar.figure.savefig(os.path.join(path, 'Analysis', 'viz', 'Bar_department.png'))"
   ]
  },
  {
   "cell_type": "code",
   "execution_count": 38,
   "id": "c7bcaa0b-cd4a-4ecc-ac92-6ea0a6d2085a",
   "metadata": {},
   "outputs": [],
   "source": [
    "# Creating crosstab for region and age group"
   ]
  },
  {
   "cell_type": "code",
   "execution_count": 39,
   "id": "5e8a5c7c-d924-4dbb-80ce-f461dc2fffbb",
   "metadata": {},
   "outputs": [],
   "source": [
    "region_age=pd.crosstab(df_merged['region'], df_merged['age_group'], dropna=False)"
   ]
  },
  {
   "cell_type": "code",
   "execution_count": 40,
   "id": "5b6dc42e-79cc-4d05-88d7-2c8b3480c045",
   "metadata": {},
   "outputs": [
    {
     "data": {
      "text/html": [
       "<div>\n",
       "<style scoped>\n",
       "    .dataframe tbody tr th:only-of-type {\n",
       "        vertical-align: middle;\n",
       "    }\n",
       "\n",
       "    .dataframe tbody tr th {\n",
       "        vertical-align: top;\n",
       "    }\n",
       "\n",
       "    .dataframe thead th {\n",
       "        text-align: right;\n",
       "    }\n",
       "</style>\n",
       "<table border=\"1\" class=\"dataframe\">\n",
       "  <thead>\n",
       "    <tr style=\"text-align: right;\">\n",
       "      <th>age_group</th>\n",
       "      <th>Mid Aged Adult</th>\n",
       "      <th>Senior</th>\n",
       "      <th>Single Adult</th>\n",
       "      <th>Young Parent</th>\n",
       "    </tr>\n",
       "    <tr>\n",
       "      <th>region</th>\n",
       "      <th></th>\n",
       "      <th></th>\n",
       "      <th></th>\n",
       "      <th></th>\n",
       "    </tr>\n",
       "  </thead>\n",
       "  <tbody>\n",
       "    <tr>\n",
       "      <th>Midwest</th>\n",
       "      <td>1578137</td>\n",
       "      <td>2388444</td>\n",
       "      <td>1424148</td>\n",
       "      <td>1679393</td>\n",
       "    </tr>\n",
       "    <tr>\n",
       "      <th>Northeast</th>\n",
       "      <td>1178477</td>\n",
       "      <td>1835060</td>\n",
       "      <td>1081643</td>\n",
       "      <td>1229171</td>\n",
       "    </tr>\n",
       "    <tr>\n",
       "      <th>South</th>\n",
       "      <td>2155548</td>\n",
       "      <td>3433960</td>\n",
       "      <td>2072383</td>\n",
       "      <td>2388268</td>\n",
       "    </tr>\n",
       "    <tr>\n",
       "      <th>West</th>\n",
       "      <td>1734565</td>\n",
       "      <td>2648321</td>\n",
       "      <td>1565234</td>\n",
       "      <td>1778672</td>\n",
       "    </tr>\n",
       "  </tbody>\n",
       "</table>\n",
       "</div>"
      ],
      "text/plain": [
       "age_group  Mid Aged Adult   Senior  Single Adult  Young Parent\n",
       "region                                                        \n",
       "Midwest           1578137  2388444       1424148       1679393\n",
       "Northeast         1178477  1835060       1081643       1229171\n",
       "South             2155548  3433960       2072383       2388268\n",
       "West              1734565  2648321       1565234       1778672"
      ]
     },
     "execution_count": 40,
     "metadata": {},
     "output_type": "execute_result"
    }
   ],
   "source": [
    "region_age"
   ]
  },
  {
   "cell_type": "code",
   "execution_count": 41,
   "id": "fefebc22-6aa6-4ade-97fa-d5fb9682e2cc",
   "metadata": {},
   "outputs": [
    {
     "data": {
      "image/png": "[encoded data removed]",
      "text/plain": [
       "<Figure size 1000x600 with 1 Axes>"
      ]
     },
     "metadata": {},
     "output_type": "display_data"
    }
   ],
   "source": [
    "region_age.plot(kind='bar', stacked=True, figsize=(10, 6))\n",
    "plt.title('Distribution by region')\n",
    "plt.xlabel('Region')\n",
    "plt.ylabel('Age_Group Count')\n",
    "plt.savefig(os.path.join(path, 'Analysis', 'viz', 'age_region.png'))"
   ]
  },
  {
   "cell_type": "markdown",
   "id": "34ee72df-59a2-4437-8606-d24b8255ac02",
   "metadata": {},
   "source": [
    "The chart provides a clear visual comparison of demographic patterns among U.S. regions, highlighting regional variations in age group distributions."
   ]
  },
  {
   "cell_type": "code",
   "execution_count": 43,
   "id": "006b033e-5f98-4160-b5ee-241a820a8497",
   "metadata": {},
   "outputs": [],
   "source": [
    "# Creating crosstab for region and income group"
   ]
  },
  {
   "cell_type": "code",
   "execution_count": 44,
   "id": "7dae912a-3fe9-4252-9b48-e004c8040145",
   "metadata": {},
   "outputs": [],
   "source": [
    "region_income=pd.crosstab(df_merged['region'],df_merged['income_group'],dropna=False)"
   ]
  },
  {
   "cell_type": "code",
   "execution_count": 45,
   "id": "43514bcd-de78-4d74-be8d-d8615705eaae",
   "metadata": {},
   "outputs": [
    {
     "data": {
      "text/html": [
       "<div>\n",
       "<style scoped>\n",
       "    .dataframe tbody tr th:only-of-type {\n",
       "        vertical-align: middle;\n",
       "    }\n",
       "\n",
       "    .dataframe tbody tr th {\n",
       "        vertical-align: top;\n",
       "    }\n",
       "\n",
       "    .dataframe thead th {\n",
       "        text-align: right;\n",
       "    }\n",
       "</style>\n",
       "<table border=\"1\" class=\"dataframe\">\n",
       "  <thead>\n",
       "    <tr style=\"text-align: right;\">\n",
       "      <th>income_group</th>\n",
       "      <th>High Income</th>\n",
       "      <th>Low Income</th>\n",
       "      <th>Mid Income</th>\n",
       "    </tr>\n",
       "    <tr>\n",
       "      <th>region</th>\n",
       "      <th></th>\n",
       "      <th></th>\n",
       "      <th></th>\n",
       "    </tr>\n",
       "  </thead>\n",
       "  <tbody>\n",
       "    <tr>\n",
       "      <th>Midwest</th>\n",
       "      <td>893843</td>\n",
       "      <td>756646</td>\n",
       "      <td>5419633</td>\n",
       "    </tr>\n",
       "    <tr>\n",
       "      <th>Northeast</th>\n",
       "      <td>662099</td>\n",
       "      <td>565708</td>\n",
       "      <td>4096544</td>\n",
       "    </tr>\n",
       "    <tr>\n",
       "      <th>South</th>\n",
       "      <td>1261587</td>\n",
       "      <td>1105766</td>\n",
       "      <td>7682806</td>\n",
       "    </tr>\n",
       "    <tr>\n",
       "      <th>West</th>\n",
       "      <td>985045</td>\n",
       "      <td>820714</td>\n",
       "      <td>5921033</td>\n",
       "    </tr>\n",
       "  </tbody>\n",
       "</table>\n",
       "</div>"
      ],
      "text/plain": [
       "income_group  High Income  Low Income  Mid Income\n",
       "region                                           \n",
       "Midwest            893843      756646     5419633\n",
       "Northeast          662099      565708     4096544\n",
       "South             1261587     1105766     7682806\n",
       "West               985045      820714     5921033"
      ]
     },
     "execution_count": 45,
     "metadata": {},
     "output_type": "execute_result"
    }
   ],
   "source": [
    "region_income"
   ]
  },
  {
   "cell_type": "code",
   "execution_count": 46,
   "id": "bfcf85ec-452a-478b-a240-099a864cb221",
   "metadata": {},
   "outputs": [
    {
     "data": {
      "image/png": "[encoded data removed]",
      "text/plain": [
       "<Figure size 1000x600 with 1 Axes>"
      ]
     },
     "metadata": {},
     "output_type": "display_data"
    }
   ],
   "source": [
    "region_income.plot(kind='bar', figsize=(10, 6))\n",
    "plt.title('Distribution by region')\n",
    "plt.xlabel('Region')\n",
    "plt.ylabel('Income_Group Count')\n",
    "plt.savefig(os.path.join(path, 'Analysis', 'viz', 'region_income.png'))"
   ]
  },
  {
   "cell_type": "markdown",
   "id": "6e50b42f-14d8-4911-bb20-56e8ae597b7a",
   "metadata": {},
   "source": [
    "This visualization effectively illustrates regional economic disparities and the predominance of middle-income households across the United States."
   ]
  },
  {
   "cell_type": "code",
   "execution_count": 48,
   "id": "fa807871-bae5-4dd4-a8c7-56fc83cd4960",
   "metadata": {},
   "outputs": [],
   "source": [
    "# Creating crosstab for region and Household size"
   ]
  },
  {
   "cell_type": "code",
   "execution_count": 49,
   "id": "7ceeb414-83f3-4ff7-9ce7-9afff5773cb8",
   "metadata": {},
   "outputs": [],
   "source": [
    "region_household_size = pd.crosstab(df_merged['region'], df_merged['Household size'], dropna=False)"
   ]
  },
  {
   "cell_type": "code",
   "execution_count": 50,
   "id": "59fb5433-2520-42b9-8abd-6b6eb10491f2",
   "metadata": {},
   "outputs": [
    {
     "data": {
      "text/html": [
       "<div>\n",
       "<style scoped>\n",
       "    .dataframe tbody tr th:only-of-type {\n",
       "        vertical-align: middle;\n",
       "    }\n",
       "\n",
       "    .dataframe tbody tr th {\n",
       "        vertical-align: top;\n",
       "    }\n",
       "\n",
       "    .dataframe thead th {\n",
       "        text-align: right;\n",
       "    }\n",
       "</style>\n",
       "<table border=\"1\" class=\"dataframe\">\n",
       "  <thead>\n",
       "    <tr style=\"text-align: right;\">\n",
       "      <th>Household size</th>\n",
       "      <th>Big</th>\n",
       "      <th>Small</th>\n",
       "    </tr>\n",
       "    <tr>\n",
       "      <th>region</th>\n",
       "      <th></th>\n",
       "      <th></th>\n",
       "    </tr>\n",
       "  </thead>\n",
       "  <tbody>\n",
       "    <tr>\n",
       "      <th>Midwest</th>\n",
       "      <td>3500955</td>\n",
       "      <td>3569167</td>\n",
       "    </tr>\n",
       "    <tr>\n",
       "      <th>Northeast</th>\n",
       "      <td>2663773</td>\n",
       "      <td>2660578</td>\n",
       "    </tr>\n",
       "    <tr>\n",
       "      <th>South</th>\n",
       "      <td>5059128</td>\n",
       "      <td>4991031</td>\n",
       "    </tr>\n",
       "    <tr>\n",
       "      <th>West</th>\n",
       "      <td>3884712</td>\n",
       "      <td>3842080</td>\n",
       "    </tr>\n",
       "  </tbody>\n",
       "</table>\n",
       "</div>"
      ],
      "text/plain": [
       "Household size      Big    Small\n",
       "region                          \n",
       "Midwest         3500955  3569167\n",
       "Northeast       2663773  2660578\n",
       "South           5059128  4991031\n",
       "West            3884712  3842080"
      ]
     },
     "execution_count": 50,
     "metadata": {},
     "output_type": "execute_result"
    }
   ],
   "source": [
    "region_household_size"
   ]
  },
  {
   "cell_type": "code",
   "execution_count": 51,
   "id": "0a79ac16-2148-43b0-84d3-03371e411d2a",
   "metadata": {},
   "outputs": [
    {
     "data": {
      "image/png": "[encoded data removed]",
      "text/plain": [
       "<Figure size 1000x600 with 1 Axes>"
      ]
     },
     "metadata": {},
     "output_type": "display_data"
    }
   ],
   "source": [
    "region_household_size.plot(kind='bar', figsize=(10, 6))\n",
    "plt.title('Distribution by region')\n",
    "plt.xlabel('region')\n",
    "plt.ylabel('Household size Count')\n",
    "plt.savefig(os.path.join(path, 'Analysis', 'viz', 'region_household_size.png'))"
   ]
  },
  {
   "cell_type": "markdown",
   "id": "63d6bad7-d2dc-450c-beb9-9f2381305c67",
   "metadata": {},
   "source": [
    "This visualization effectively shows regional patterns in household size distribution, with the South standing out as having the largest population across both categories."
   ]
  },
  {
   "cell_type": "code",
   "execution_count": 53,
   "id": "6f789310-f566-4aa0-bdb3-b7f52772df44",
   "metadata": {},
   "outputs": [],
   "source": [
    "# Creating crosstab for loyalty_flag and spender_flag\n"
   ]
  },
  {
   "cell_type": "code",
   "execution_count": 54,
   "id": "f0af9570-876e-427c-8123-2fe90557642f",
   "metadata": {},
   "outputs": [],
   "source": [
    "loyalty_spending = pd.crosstab(df_merged['loyalty_flag'], df_merged['Spender_flag'], dropna = False)"
   ]
  },
  {
   "cell_type": "code",
   "execution_count": 55,
   "id": "742b5256-77cc-421c-a685-1dd15ec5f7ee",
   "metadata": {},
   "outputs": [
    {
     "data": {
      "text/html": [
       "<div>\n",
       "<style scoped>\n",
       "    .dataframe tbody tr th:only-of-type {\n",
       "        vertical-align: middle;\n",
       "    }\n",
       "\n",
       "    .dataframe tbody tr th {\n",
       "        vertical-align: top;\n",
       "    }\n",
       "\n",
       "    .dataframe thead th {\n",
       "        text-align: right;\n",
       "    }\n",
       "</style>\n",
       "<table border=\"1\" class=\"dataframe\">\n",
       "  <thead>\n",
       "    <tr style=\"text-align: right;\">\n",
       "      <th>Spender_flag</th>\n",
       "      <th>High spender</th>\n",
       "      <th>Low spender</th>\n",
       "    </tr>\n",
       "    <tr>\n",
       "      <th>loyalty_flag</th>\n",
       "      <th></th>\n",
       "      <th></th>\n",
       "    </tr>\n",
       "  </thead>\n",
       "  <tbody>\n",
       "    <tr>\n",
       "      <th>Loyal customer</th>\n",
       "      <td>216600</td>\n",
       "      <td>10067493</td>\n",
       "    </tr>\n",
       "    <tr>\n",
       "      <th>New customer</th>\n",
       "      <td>67914</td>\n",
       "      <td>3942641</td>\n",
       "    </tr>\n",
       "    <tr>\n",
       "      <th>Regular customer</th>\n",
       "      <td>302814</td>\n",
       "      <td>15573962</td>\n",
       "    </tr>\n",
       "  </tbody>\n",
       "</table>\n",
       "</div>"
      ],
      "text/plain": [
       "Spender_flag      High spender  Low spender\n",
       "loyalty_flag                               \n",
       "Loyal customer          216600     10067493\n",
       "New customer             67914      3942641\n",
       "Regular customer        302814     15573962"
      ]
     },
     "execution_count": 55,
     "metadata": {},
     "output_type": "execute_result"
    }
   ],
   "source": [
    "loyalty_spending"
   ]
  },
  {
   "cell_type": "code",
   "execution_count": 56,
   "id": "e98236f8-0096-434f-abdb-78b3e4296019",
   "metadata": {},
   "outputs": [
    {
     "data": {
      "image/png": "[encoded data removed]",
      "text/plain": [
       "<Figure size 800x800 with 1 Axes>"
      ]
     },
     "metadata": {},
     "output_type": "display_data"
    }
   ],
   "source": [
    "loyalty_spending.plot(kind='bar', figsize=(8,8))\n",
    "plt.title('Ordering habit by loyalty')\n",
    "plt.xlabel('Spender_flag')\n",
    "plt.ylabel('loyalty_flag')\n",
    "plt.savefig(os.path.join(path, 'Analysis', 'viz', 'loyalty_spending.png'))"
   ]
  },
  {
   "cell_type": "markdown",
   "id": "b5a97c65-caa7-49bb-a11c-c3c1abb0b8a1",
   "metadata": {},
   "source": [
    "This visualization highlights that the majority of customers across all loyalty levels are low spenders, with regular customers being the most numerous. It suggests potential opportunities for converting low spenders to high spenders, especially among loyal and regular customers."
   ]
  },
  {
   "cell_type": "code",
   "execution_count": 58,
   "id": "f4a8a63d-920c-4135-a883-9c447bad5842",
   "metadata": {},
   "outputs": [],
   "source": [
    "# Creating crosstab for order frquency and region"
   ]
  },
  {
   "cell_type": "code",
   "execution_count": 59,
   "id": "e76c9291-a364-45f3-9da9-7cdd693792d8",
   "metadata": {},
   "outputs": [],
   "source": [
    "ordering_frequency_region = pd.crosstab(df_merged['region'], df_merged['Frequency_flag'], dropna = False)"
   ]
  },
  {
   "cell_type": "code",
   "execution_count": 60,
   "id": "318aec7a-37d2-4f74-a4be-b216126b48fd",
   "metadata": {},
   "outputs": [
    {
     "data": {
      "text/html": [
       "<div>\n",
       "<style scoped>\n",
       "    .dataframe tbody tr th:only-of-type {\n",
       "        vertical-align: middle;\n",
       "    }\n",
       "\n",
       "    .dataframe tbody tr th {\n",
       "        vertical-align: top;\n",
       "    }\n",
       "\n",
       "    .dataframe thead th {\n",
       "        text-align: right;\n",
       "    }\n",
       "</style>\n",
       "<table border=\"1\" class=\"dataframe\">\n",
       "  <thead>\n",
       "    <tr style=\"text-align: right;\">\n",
       "      <th>Frequency_flag</th>\n",
       "      <th>Frequent customer</th>\n",
       "      <th>Non-frequent customer</th>\n",
       "      <th>Regular customer</th>\n",
       "    </tr>\n",
       "    <tr>\n",
       "      <th>region</th>\n",
       "      <th></th>\n",
       "      <th></th>\n",
       "      <th></th>\n",
       "    </tr>\n",
       "  </thead>\n",
       "  <tbody>\n",
       "    <tr>\n",
       "      <th>Midwest</th>\n",
       "      <td>4887042</td>\n",
       "      <td>596573</td>\n",
       "      <td>1586507</td>\n",
       "    </tr>\n",
       "    <tr>\n",
       "      <th>Northeast</th>\n",
       "      <td>3707547</td>\n",
       "      <td>429876</td>\n",
       "      <td>1186928</td>\n",
       "    </tr>\n",
       "    <tr>\n",
       "      <th>South</th>\n",
       "      <td>7010976</td>\n",
       "      <td>839986</td>\n",
       "      <td>2199197</td>\n",
       "    </tr>\n",
       "    <tr>\n",
       "      <th>West</th>\n",
       "      <td>5403958</td>\n",
       "      <td>641556</td>\n",
       "      <td>1681278</td>\n",
       "    </tr>\n",
       "  </tbody>\n",
       "</table>\n",
       "</div>"
      ],
      "text/plain": [
       "Frequency_flag  Frequent customer  Non-frequent customer  Regular customer\n",
       "region                                                                    \n",
       "Midwest                   4887042                 596573           1586507\n",
       "Northeast                 3707547                 429876           1186928\n",
       "South                     7010976                 839986           2199197\n",
       "West                      5403958                 641556           1681278"
      ]
     },
     "execution_count": 60,
     "metadata": {},
     "output_type": "execute_result"
    }
   ],
   "source": [
    "ordering_frequency_region"
   ]
  },
  {
   "cell_type": "code",
   "execution_count": 61,
   "id": "421569f2-7a17-4fe7-bf89-e46584914b1a",
   "metadata": {},
   "outputs": [
    {
     "data": {
      "image/png": "[encoded data removed]",
      "text/plain": [
       "<Figure size 800x800 with 1 Axes>"
      ]
     },
     "metadata": {},
     "output_type": "display_data"
    }
   ],
   "source": [
    "ordering_frequency_region.plot(kind='bar', figsize=(8,8))\n",
    "plt.title('Ordering frequency by region')\n",
    "plt.savefig(os.path.join(path, 'Analysis', 'viz', 'ordering_frequency_region.png'))"
   ]
  },
  {
   "cell_type": "markdown",
   "id": "5defb255-2405-4857-be0c-8b3f8c064ea5",
   "metadata": {},
   "source": [
    "This visualization highlights regional differences in customer ordering habits, with the South standing out as the most active region for all customer types."
   ]
  },
  {
   "cell_type": "code",
   "execution_count": 63,
   "id": "2a9c659d-1eee-4c2c-86ae-755e6d5800f0",
   "metadata": {},
   "outputs": [],
   "source": [
    "# create a crosstab between 'region' and 'spending_flag'"
   ]
  },
  {
   "cell_type": "code",
   "execution_count": 64,
   "id": "799b2d00-8b90-4d0e-ba4d-5215da41b976",
   "metadata": {},
   "outputs": [],
   "source": [
    "region_spender_flag = pd.crosstab(df_merged['region'], df_merged['Spender_flag'], dropna = False)"
   ]
  },
  {
   "cell_type": "code",
   "execution_count": 65,
   "id": "ed24e151-3ae9-462b-8317-d06dbc4c2140",
   "metadata": {},
   "outputs": [
    {
     "data": {
      "text/html": [
       "<div>\n",
       "<style scoped>\n",
       "    .dataframe tbody tr th:only-of-type {\n",
       "        vertical-align: middle;\n",
       "    }\n",
       "\n",
       "    .dataframe tbody tr th {\n",
       "        vertical-align: top;\n",
       "    }\n",
       "\n",
       "    .dataframe thead th {\n",
       "        text-align: right;\n",
       "    }\n",
       "</style>\n",
       "<table border=\"1\" class=\"dataframe\">\n",
       "  <thead>\n",
       "    <tr style=\"text-align: right;\">\n",
       "      <th>Spender_flag</th>\n",
       "      <th>High spender</th>\n",
       "      <th>Low spender</th>\n",
       "    </tr>\n",
       "    <tr>\n",
       "      <th>region</th>\n",
       "      <th></th>\n",
       "      <th></th>\n",
       "    </tr>\n",
       "  </thead>\n",
       "  <tbody>\n",
       "    <tr>\n",
       "      <th>Midwest</th>\n",
       "      <td>144894</td>\n",
       "      <td>6925228</td>\n",
       "    </tr>\n",
       "    <tr>\n",
       "      <th>Northeast</th>\n",
       "      <td>100693</td>\n",
       "      <td>5223658</td>\n",
       "    </tr>\n",
       "    <tr>\n",
       "      <th>South</th>\n",
       "      <td>194352</td>\n",
       "      <td>9855807</td>\n",
       "    </tr>\n",
       "    <tr>\n",
       "      <th>West</th>\n",
       "      <td>147389</td>\n",
       "      <td>7579403</td>\n",
       "    </tr>\n",
       "  </tbody>\n",
       "</table>\n",
       "</div>"
      ],
      "text/plain": [
       "Spender_flag  High spender  Low spender\n",
       "region                                 \n",
       "Midwest             144894      6925228\n",
       "Northeast           100693      5223658\n",
       "South               194352      9855807\n",
       "West                147389      7579403"
      ]
     },
     "execution_count": 65,
     "metadata": {},
     "output_type": "execute_result"
    }
   ],
   "source": [
    "region_spender_flag"
   ]
  },
  {
   "cell_type": "code",
   "execution_count": 66,
   "id": "a78275d3-97e2-4e5e-a6b9-76e904192ebf",
   "metadata": {},
   "outputs": [
    {
     "data": {
      "image/png": "[encoded data removed]",
      "text/plain": [
       "<Figure size 800x800 with 1 Axes>"
      ]
     },
     "metadata": {},
     "output_type": "display_data"
    }
   ],
   "source": [
    "region_spender_flag.plot(kind='bar', figsize=(8,8))\n",
    "plt.title('Ordering frequency by region')\n",
    "plt.savefig(os.path.join(path, 'Analysis', 'viz', 'region_spending_flag'))"
   ]
  },
  {
   "cell_type": "markdown",
   "id": "7644d378-72dd-46ed-a0f1-dafa0c164902",
   "metadata": {},
   "source": [
    "This visualization helps in understanding the distribution and frequency of orders by different spender categories in various regions, highlighting that low spenders contribute significantly more to the ordering frequency."
   ]
  },
  {
   "cell_type": "markdown",
   "id": "2bf54385-3db2-40e4-b437-863d27d0dd10",
   "metadata": {},
   "source": [
    "# Export data"
   ]
  },
  {
   "cell_type": "code",
   "execution_count": 69,
   "id": "d6dc79d2-3290-481c-9ee8-74fee18b4154",
   "metadata": {},
   "outputs": [],
   "source": [
    "df_merged.to_pickle(r'D:\\Sonal\\career foundry\\CareerFoundry\\Data Immersion\\Achievement 4\\Exc 4.10\\df_merged_final.pkl')"
   ]
  },
  {
   "cell_type": "code",
   "execution_count": null,
   "id": "5ed2bb78-a5aa-4f98-8ac5-56dac7fbc598",
   "metadata": {},
   "outputs": [],
   "source": []
  }
 ],
 "metadata": {
  "kernelspec": {
   "display_name": "Python 3 (ipykernel)",
   "language": "python",
   "name": "python3"
  },
  "language_info": {
   "codemirror_mode": {
    "name": "ipython",
    "version": 3
   },
   "file_extension": ".py",
   "mimetype": "text/x-python",
   "name": "python",
   "nbconvert_exporter": "python",
   "pygments_lexer": "ipython3",
   "version": "3.11.7"
  }
 },
 "nbformat": 4,
 "nbformat_minor": 5
}
