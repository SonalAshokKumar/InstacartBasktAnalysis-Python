{
 "cells": [
  {
   "cell_type": "markdown",
   "id": "a4f18084-3e61-4085-b52f-6c6d127dda90",
   "metadata": {},
   "source": [
    "# 4-10 Coding etiquette and Excel reporting\n",
    "\n",
    "### 1. Imports libraries and dataframes\n",
    "  \n",
    "### 3. Data Segmentation by Region\n",
    "#### 3.1 Segmention in Northeast, Midwest, South and West\n",
    "#### 3.2.Creating crosstab to spender_flag\n",
    "\n",
    "### 4. Excluding low-activity customers from data\n",
    "\n",
    "### 5. Customers profiling\n",
    "#### 4.1. Having a look on the dataset\n",
    "#### 4.2. Distribution by age\n",
    "#### 4.3. Distribution by number of dependants - Household\n",
    "#### 4.4. Distribution by income\n",
    "\n",
    "### 6. Visualizations\n",
    "#### 5.1. Creating an user_profile dataframe\n",
    "#### 5.2. Age distribution\n",
    "#### 5.3. Income distribution\n",
    "#### 5.4. Household size distribution\n",
    "\n",
    "### 7. Aggregation \n",
    "#### 6.1. Aggregation by age group\n",
    "#### 6.2. Aggregation by Income Group\n",
    "#### 6.3. Aggregation by Household size\n",
    "\n",
    "### 8. Comparison between regions vs departments\n",
    "#### 8.1. Income Groups vs Region\n",
    "#### 8.2. Age Groups vs Region\n",
    "#### 8.3. Household size vs Region"
   ]
  },
  {
   "cell_type": "markdown",
   "id": "7fbe4430-bc2b-408b-b22d-bc8dd8199a97",
   "metadata": {},
   "source": [
    "# Import libraries"
   ]
  },
  {
   "cell_type": "code",
   "execution_count": 11,
   "id": "16e91c9f-7551-4db7-ac49-d13c21590868",
   "metadata": {},
   "outputs": [],
   "source": [
    "import pandas as pd\n",
    "import numpy as np\n",
    "import os\n",
    "import matplotlib.pyplot as plt\n",
    "import seaborn as sns\n",
    "import scipy"
   ]
  },
  {
   "cell_type": "markdown",
   "id": "754d507c-2ffd-40ab-bc21-ed3fd87c2c0c",
   "metadata": {},
   "source": [
    "# Import data"
   ]
  },
  {
   "cell_type": "code",
   "execution_count": 13,
   "id": "735807aa-96e7-4a70-bc3f-a1713f3bf8ef",
   "metadata": {},
   "outputs": [],
   "source": [
    "df_cust=pd.read_csv(r'D:\\Sonal\\career foundry\\CareerFoundry\\Data Immersion\\Achievement 4\\Exc 4.3\\Original data\\customers\\customers.csv',index_col=False)"
   ]
  },
  {
   "cell_type": "code",
   "execution_count": 14,
   "id": "693cf7b0-9dcb-4d69-adb2-f02077fe4f17",
   "metadata": {},
   "outputs": [
    {
     "data": {
      "text/plain": [
       "(206209, 10)"
      ]
     },
     "execution_count": 14,
     "metadata": {},
     "output_type": "execute_result"
    }
   ],
   "source": [
    "df_cust.shape"
   ]
  },
  {
   "cell_type": "code",
   "execution_count": 15,
   "id": "71e0cf5b-33e2-4a2c-824f-ea58659580cd",
   "metadata": {},
   "outputs": [],
   "source": [
    "# columns rename"
   ]
  },
  {
   "cell_type": "code",
   "execution_count": 16,
   "id": "4040ec21-53f0-48a8-bdf7-93d8c01acf18",
   "metadata": {},
   "outputs": [],
   "source": [
    "df_cust.rename(columns={'Surnam':'surname'},inplace=True)"
   ]
  },
  {
   "cell_type": "code",
   "execution_count": 17,
   "id": "eafd49f9-3420-4797-9da1-99cfda004f18",
   "metadata": {},
   "outputs": [],
   "source": [
    "df_cust.rename(columns={'First Name':'first_name'},inplace=True)"
   ]
  },
  {
   "cell_type": "code",
   "execution_count": 18,
   "id": "ee16f136-178b-4f59-89fe-dd9ded936cb0",
   "metadata": {},
   "outputs": [],
   "source": [
    "df_cust.rename(columns={'Gender':'gender'},inplace=True)"
   ]
  },
  {
   "cell_type": "code",
   "execution_count": 19,
   "id": "eba7cdff-1569-471c-be7d-0849d7f06c30",
   "metadata": {},
   "outputs": [],
   "source": [
    "df_cust.rename(columns={'STATE':'state'},inplace=True)"
   ]
  },
  {
   "cell_type": "code",
   "execution_count": 20,
   "id": "0f797f53-0b11-4faf-9bce-1bc11686fcd1",
   "metadata": {},
   "outputs": [],
   "source": [
    "df_cust.rename(columns={'Age':'age'},inplace=True)"
   ]
  },
  {
   "cell_type": "code",
   "execution_count": 21,
   "id": "644d92b9-d7fb-46d0-93ca-3611111d5af9",
   "metadata": {},
   "outputs": [],
   "source": [
    "df_cust.rename(columns={'n_dependants':'dependants'},inplace=True)"
   ]
  },
  {
   "cell_type": "code",
   "execution_count": 22,
   "id": "e9fb7c83-6887-4b39-961f-a2a4e1e8fc8b",
   "metadata": {},
   "outputs": [],
   "source": [
    "# change first name mix column   to str type"
   ]
  },
  {
   "cell_type": "code",
   "execution_count": 23,
   "id": "1ca4dc37-4b6a-43f0-80d1-c26578f668d7",
   "metadata": {},
   "outputs": [],
   "source": [
    "df_cust['first_name'] = df_cust['first_name'].astype('str')"
   ]
  },
  {
   "cell_type": "code",
   "execution_count": 24,
   "id": "9bbe071a-16ea-480a-9dae-8529f8ad28ae",
   "metadata": {},
   "outputs": [],
   "source": [
    "# change 'user_id' to 'str'"
   ]
  },
  {
   "cell_type": "code",
   "execution_count": 25,
   "id": "d2aaab60-9637-488c-9ab2-f502df285689",
   "metadata": {},
   "outputs": [],
   "source": [
    "df_cust['user_id'] = df_cust['user_id'].astype('str')"
   ]
  },
  {
   "cell_type": "code",
   "execution_count": 231,
   "id": "76ed8fb2-e610-4666-a411-0165837e3bd2",
   "metadata": {},
   "outputs": [],
   "source": [
    "path='D:\\Sonal\\career foundry\\CareerFoundry\\Data Immersion\\Achievement 4\\Exc 4.3'"
   ]
  },
  {
   "cell_type": "markdown",
   "id": "a720f837-5b4b-465c-9a41-53459efbc45b",
   "metadata": {},
   "source": [
    "# Import ords_prods_merge data"
   ]
  },
  {
   "cell_type": "code",
   "execution_count": 27,
   "id": "3215fe3e-0a7f-4c40-820b-6890a530507f",
   "metadata": {},
   "outputs": [],
   "source": [
    "ords_prods_merge=pd.read_pickle(r'D:\\Sonal\\career foundry\\CareerFoundry\\Data Immersion\\Achievement 4\\Exc 4.3\\Prepared data\\orders_products_merged_agg.pkl')"
   ]
  },
  {
   "cell_type": "code",
   "execution_count": 28,
   "id": "77280ab9-6589-48b1-8a4d-6bb6b363c8b9",
   "metadata": {},
   "outputs": [
    {
     "data": {
      "text/plain": [
       "(32404859, 24)"
      ]
     },
     "execution_count": 28,
     "metadata": {},
     "output_type": "execute_result"
    }
   ],
   "source": [
    "ords_prods_merge.shape"
   ]
  },
  {
   "cell_type": "code",
   "execution_count": 29,
   "id": "9e8d242a-1478-468e-97b3-e6da0d2831d2",
   "metadata": {},
   "outputs": [],
   "source": [
    "# change ords_prods_merge 'user_id' to str"
   ]
  },
  {
   "cell_type": "code",
   "execution_count": 30,
   "id": "11a8552c-3d7d-45bf-863e-a26cee21f184",
   "metadata": {},
   "outputs": [],
   "source": [
    "ords_prods_merge['user_id']=ords_prods_merge['user_id'].astype('str')"
   ]
  },
  {
   "cell_type": "code",
   "execution_count": 31,
   "id": "e0c47568-f2ab-4e8f-af7f-45947df84062",
   "metadata": {},
   "outputs": [
    {
     "data": {
      "text/plain": [
       "dtype('O')"
      ]
     },
     "execution_count": 31,
     "metadata": {},
     "output_type": "execute_result"
    }
   ],
   "source": [
    "ords_prods_merge['user_id'].dtype"
   ]
  },
  {
   "cell_type": "code",
   "execution_count": 32,
   "id": "8a73e7c8-97b0-49ad-bc1d-c442fc0789f4",
   "metadata": {},
   "outputs": [],
   "source": [
    "# drop merge column as indicates that the DataFrame you're trying to merge already contains a column named \"_merge\""
   ]
  },
  {
   "cell_type": "code",
   "execution_count": 33,
   "id": "86b8722d-bf4d-48ad-a9b9-6097b9fff31e",
   "metadata": {},
   "outputs": [],
   "source": [
    "ords_prods_merge = ords_prods_merge.drop(columns=['_merge'])"
   ]
  },
  {
   "cell_type": "code",
   "execution_count": 34,
   "id": "4669f0a9-c0b2-4f39-a14d-9283ad9e49ae",
   "metadata": {},
   "outputs": [],
   "source": [
    "# Merge the two dataframes using the column 'user_id' as the shared column with the default join (inner)"
   ]
  },
  {
   "cell_type": "code",
   "execution_count": 35,
   "id": "76963a5f-9f98-4b6e-a923-9cf80e684335",
   "metadata": {},
   "outputs": [],
   "source": [
    "\n",
    "# Function to optimize memory usage"
   ]
  },
  {
   "cell_type": "code",
   "execution_count": 36,
   "id": "a9544529-965c-4945-884e-09f4b62118f4",
   "metadata": {},
   "outputs": [],
   "source": [
    "def optimize_memory_usage(df):\n",
    "    for col in df.columns:\n",
    "        col_type = df[col].dtype\n",
    "\n",
    "        if col_type != object:\n",
    "            c_min = df[col].min()\n",
    "            c_max = df[col].max()\n",
    "\n",
    "            if str(col_type)[:3] == 'int':\n",
    "                if c_min > np.iinfo(np.int8).min and c_max < np.iinfo(np.int8).max:\n",
    "                    df[col] = df[col].astype(np.int8)\n",
    "                elif c_min > np.iinfo(np.int16).min and c_max < np.iinfo(np.int16).max:\n",
    "                    df[col] = df[col].astype(np.int16)\n",
    "                elif c_min > np.iinfo(np.int32).min and c_max < np.iinfo(np.int32).max:\n",
    "                    df[col] = df[col].astype(np.int32)\n",
    "                else:\n",
    "                    df[col] = df[col].astype(np.int64)\n",
    "            elif str(col_type)[:5] == 'float':\n",
    "                if c_min > np.finfo(np.float16).min and c_max < np.finfo(np.float16).max:\n",
    "                    df[col] = df[col].astype(np.float16)\n",
    "                elif c_min > np.finfo(np.float32).min and c_max < np.finfo(np.float32).max:\n",
    "                    df[col] = df[col].astype(np.float32)\n",
    "                else:\n",
    "                    df[col] = df[col].astype(np.float64)\n",
    "        else:\n",
    "            df[col] = df[col].astype('category')\n",
    "\n",
    "    return df"
   ]
  },
  {
   "cell_type": "code",
   "execution_count": 37,
   "id": "089995f0-8f9b-461b-b1ad-2626fad6022b",
   "metadata": {},
   "outputs": [],
   "source": [
    "# Optimize memory usage for both dataframes"
   ]
  },
  {
   "cell_type": "code",
   "execution_count": 38,
   "id": "34b979c1-fe01-45c2-ae2d-37885ef961f7",
   "metadata": {},
   "outputs": [],
   "source": [
    "ords_prods_merge = optimize_memory_usage(ords_prods_merge)"
   ]
  },
  {
   "cell_type": "code",
   "execution_count": 39,
   "id": "29ac451a-6935-444a-8b3c-1be4107f67c7",
   "metadata": {},
   "outputs": [],
   "source": [
    "df_cust = optimize_memory_usage(df_cust)"
   ]
  },
  {
   "cell_type": "code",
   "execution_count": 40,
   "id": "d2f00c76-9824-4589-bff6-d0d4affad018",
   "metadata": {},
   "outputs": [
    {
     "data": {
      "text/plain": [
       "(32404859, 23)"
      ]
     },
     "execution_count": 40,
     "metadata": {},
     "output_type": "execute_result"
    }
   ],
   "source": [
    "ords_prods_merge.shape"
   ]
  },
  {
   "cell_type": "code",
   "execution_count": 41,
   "id": "7c6b4f8a-8713-46f4-8091-b7f82e2de695",
   "metadata": {},
   "outputs": [
    {
     "data": {
      "text/plain": [
       "(206209, 10)"
      ]
     },
     "execution_count": 41,
     "metadata": {},
     "output_type": "execute_result"
    }
   ],
   "source": [
    "df_cust.shape"
   ]
  },
  {
   "cell_type": "markdown",
   "id": "e4e218b9-8a0c-47dd-8fb2-f512a674cd39",
   "metadata": {},
   "source": [
    "# Merge data"
   ]
  },
  {
   "cell_type": "code",
   "execution_count": 43,
   "id": "228f5faa-e2e0-486e-80b0-7a2cc3587df0",
   "metadata": {},
   "outputs": [],
   "source": [
    "cust_ords_prods_merge = ords_prods_merge.merge(df_cust, on='user_id', indicator=True)"
   ]
  },
  {
   "cell_type": "code",
   "execution_count": 44,
   "id": "39893782-617d-4727-bff6-128f2842d367",
   "metadata": {},
   "outputs": [
    {
     "data": {
      "text/plain": [
       "(32404859, 33)"
      ]
     },
     "execution_count": 44,
     "metadata": {},
     "output_type": "execute_result"
    }
   ],
   "source": [
    "cust_ords_prods_merge.shape"
   ]
  },
  {
   "cell_type": "code",
   "execution_count": 45,
   "id": "be9ec923-9794-4d79-921b-8f218e9047db",
   "metadata": {},
   "outputs": [
    {
     "data": {
      "text/plain": [
       "_merge\n",
       "both          32404859\n",
       "left_only            0\n",
       "right_only           0\n",
       "Name: count, dtype: int64"
      ]
     },
     "execution_count": 45,
     "metadata": {},
     "output_type": "execute_result"
    }
   ],
   "source": [
    "cust_ords_prods_merge['_merge'].value_counts()"
   ]
  },
  {
   "cell_type": "markdown",
   "id": "a65901ac-3809-4027-8a4e-18ba9519e8f0",
   "metadata": {},
   "source": [
    "#  Task 2"
   ]
  },
  {
   "cell_type": "markdown",
   "id": "c97ae2ec-891b-496a-bc2e-d40906378f10",
   "metadata": {},
   "source": [
    "I would have removed first and last name, because it is already identifiable by 'user_ID'. But before I would have done this, I would have discussed this step with a colleague to get an opinion if the line of thought is correct. For this exercise, I am not removing any column of information."
   ]
  },
  {
   "cell_type": "markdown",
   "id": "05c2b339-43c7-407b-a2ad-ea864e7c5ed1",
   "metadata": {},
   "source": [
    "# Create Regional segmentation of the data"
   ]
  },
  {
   "cell_type": "code",
   "execution_count": 49,
   "id": "87d5d3b7-91f3-411b-b2f6-598b5a34ec21",
   "metadata": {},
   "outputs": [],
   "source": [
    "#Region 1-'Northeast'\n",
    "cust_ords_prods_merge.loc[cust_ords_prods_merge['state'].isin([ 'Maine',\n",
    "    'New Hampshire',\n",
    "    'Vermont',\n",
    "    'Massachusetts',\n",
    "    'Rhode Island',\n",
    "    'Connecticut',\n",
    "    'New York',\n",
    "    'Pennsylvania',\n",
    "    'New Jersey']),'region'] = 'Northeast'"
   ]
  },
  {
   "cell_type": "code",
   "execution_count": 50,
   "id": "74d8865c-35c0-4105-8344-1b6504abbd9e",
   "metadata": {},
   "outputs": [],
   "source": [
    "#Region 2-'Midwest'\n",
    "cust_ords_prods_merge.loc[cust_ords_prods_merge['state'].isin(['Wisconsin',\n",
    "        'Michigan',\n",
    "        'Illinois',\n",
    "        'Indiana',\n",
    "        'Ohio',\n",
    "        'North Dakota',\n",
    "        'South Dakota',\n",
    "        'Nebraska',\n",
    "        'Kansas',\n",
    "        'Minnesota',\n",
    "        'Iowa',\n",
    "        'Missouri']),'region'] = 'Midwest'"
   ]
  },
  {
   "cell_type": "code",
   "execution_count": 51,
   "id": "f32b28c0-8c74-4c01-9a84-6e16c946f1b6",
   "metadata": {},
   "outputs": [],
   "source": [
    "#Region 3-'South'\n",
    "cust_ords_prods_merge.loc[cust_ords_prods_merge['state'].isin(['Delaware',\n",
    "        'Maryland',\n",
    "        'District of Columbia',\n",
    "        'Virginia',\n",
    "        'West Virginia',\n",
    "        'North Carolina',\n",
    "        'South Carolina',\n",
    "        'Georgia',\n",
    "        'Florida',\n",
    "        'Kentucky',\n",
    "        'Tennessee',\n",
    "        'Mississippi',\n",
    "        'Alabama',\n",
    "        'Oklahoma',\n",
    "        'Texas',\n",
    "        'Arkansas',\n",
    "        'Louisiana' ]), 'region'] = 'South'"
   ]
  },
  {
   "cell_type": "code",
   "execution_count": 52,
   "id": "d0bc70cb-7c61-4188-af24-6b595ba4d753",
   "metadata": {},
   "outputs": [],
   "source": [
    "#Region 4-West\n",
    "cust_ords_prods_merge.loc[cust_ords_prods_merge['state'].isin([      'Idaho',\n",
    "        'Montana',\n",
    "        'Wyoming',\n",
    "        'Nevada',\n",
    "        'Utah',\n",
    "        'Colorado',\n",
    "        'Arizona',\n",
    "        'New Mexico',\n",
    "        'Alaska',\n",
    "        'Washington',\n",
    "        'Oregon',\n",
    "        'California',\n",
    "        'Hawaii' ]), 'region'] = 'West'"
   ]
  },
  {
   "cell_type": "code",
   "execution_count": 53,
   "id": "66547cfd-c45e-43d0-976f-8e9b11adc7ca",
   "metadata": {},
   "outputs": [
    {
     "data": {
      "text/plain": [
       "region\n",
       "South        10791885\n",
       "West          8292913\n",
       "Midwest       7597325\n",
       "Northeast     5722736\n",
       "Name: count, dtype: int64"
      ]
     },
     "execution_count": 53,
     "metadata": {},
     "output_type": "execute_result"
    }
   ],
   "source": [
    "cust_ords_prods_merge['region'].value_counts(dropna=False)"
   ]
  },
  {
   "cell_type": "code",
   "execution_count": 54,
   "id": "bad2f555-48d6-4847-8394-ff7b14f87dd9",
   "metadata": {},
   "outputs": [
    {
     "data": {
      "text/plain": [
       "Index(['product_id', 'product_name', 'aisle_id', 'department_id', 'prices',\n",
       "       'order_id', 'user_id', 'order_number', 'orders_day_of_week',\n",
       "       'order_hour_of_day', 'days_since_prior_order', 'add_to_cart_order',\n",
       "       'reordered', 'price_range_loc', 'busiest_day', 'busiest_days',\n",
       "       'busiest_period_of_day', 'max_order', 'loyalty_flag', 'Avg_spend',\n",
       "       'Spender_flag', 'Customer_frequency', 'Frequency_flag', 'first_name',\n",
       "       'surname', 'gender', 'state', 'age', 'date_joined', 'dependants',\n",
       "       'fam_status', 'income', '_merge', 'region'],\n",
       "      dtype='object')"
      ]
     },
     "execution_count": 54,
     "metadata": {},
     "output_type": "execute_result"
    }
   ],
   "source": [
    "cust_ords_prods_merge.columns"
   ]
  },
  {
   "cell_type": "markdown",
   "id": "a50202bb-a705-442b-ae83-b92766289e23",
   "metadata": {},
   "source": [
    "# Creating crosstab to spender_flag"
   ]
  },
  {
   "cell_type": "code",
   "execution_count": 56,
   "id": "7f3328d8-104c-4441-96ed-9d6a0b38cb69",
   "metadata": {},
   "outputs": [],
   "source": [
    "Crosstab_region_spender=pd.crosstab(cust_ords_prods_merge['region'],cust_ords_prods_merge['Spender_flag'],dropna=False)"
   ]
  },
  {
   "cell_type": "code",
   "execution_count": 57,
   "id": "5b050c2e-5c96-4b69-8f2b-7512a09fcd55",
   "metadata": {},
   "outputs": [
    {
     "data": {
      "text/html": [
       "<div>\n",
       "<style scoped>\n",
       "    .dataframe tbody tr th:only-of-type {\n",
       "        vertical-align: middle;\n",
       "    }\n",
       "\n",
       "    .dataframe tbody tr th {\n",
       "        vertical-align: top;\n",
       "    }\n",
       "\n",
       "    .dataframe thead th {\n",
       "        text-align: right;\n",
       "    }\n",
       "</style>\n",
       "<table border=\"1\" class=\"dataframe\">\n",
       "  <thead>\n",
       "    <tr style=\"text-align: right;\">\n",
       "      <th>Spender_flag</th>\n",
       "      <th>High spender</th>\n",
       "      <th>Low spender</th>\n",
       "    </tr>\n",
       "    <tr>\n",
       "      <th>region</th>\n",
       "      <th></th>\n",
       "      <th></th>\n",
       "    </tr>\n",
       "  </thead>\n",
       "  <tbody>\n",
       "    <tr>\n",
       "      <th>Midwest</th>\n",
       "      <td>155975</td>\n",
       "      <td>7441350</td>\n",
       "    </tr>\n",
       "    <tr>\n",
       "      <th>Northeast</th>\n",
       "      <td>108225</td>\n",
       "      <td>5614511</td>\n",
       "    </tr>\n",
       "    <tr>\n",
       "      <th>South</th>\n",
       "      <td>209691</td>\n",
       "      <td>10582194</td>\n",
       "    </tr>\n",
       "    <tr>\n",
       "      <th>West</th>\n",
       "      <td>160354</td>\n",
       "      <td>8132559</td>\n",
       "    </tr>\n",
       "  </tbody>\n",
       "</table>\n",
       "</div>"
      ],
      "text/plain": [
       "Spender_flag  High spender  Low spender\n",
       "region                                 \n",
       "Midwest             155975      7441350\n",
       "Northeast           108225      5614511\n",
       "South               209691     10582194\n",
       "West                160354      8132559"
      ]
     },
     "execution_count": 57,
     "metadata": {},
     "output_type": "execute_result"
    }
   ],
   "source": [
    "#checking result of crosstab\n",
    "Crosstab_region_spender"
   ]
  },
  {
   "cell_type": "code",
   "execution_count": 58,
   "id": "5bbf8797-2934-48f8-93c3-3f11750ec987",
   "metadata": {},
   "outputs": [],
   "source": [
    "#  Create a bar chart to show difference in spending habits between the different U.S. regions"
   ]
  },
  {
   "cell_type": "code",
   "execution_count": 59,
   "id": "cb206e6f-8523-47c0-ac99-2e216da8c7ce",
   "metadata": {},
   "outputs": [
    {
     "data": {
      "image/png": "[encoded data removed]",
      "text/plain": [
       "<Figure size 640x480 with 1 Axes>"
      ]
     },
     "metadata": {},
     "output_type": "display_data"
    }
   ],
   "source": [
    "Bar=Crosstab_region_spender.sort_index().plot.bar()"
   ]
  },
  {
   "cell_type": "code",
   "execution_count": 60,
   "id": "7a0dc047-a2e7-4def-a083-bf57f9137408",
   "metadata": {},
   "outputs": [],
   "source": [
    "bar=Bar.figure.savefig(r'D:\\Sonal\\career foundry\\CareerFoundry\\Data Immersion\\Achievement 4\\Exc 4.3\\Analysis\\viz\\region_spender_flag.png')"
   ]
  },
  {
   "cell_type": "markdown",
   "id": "a7339282-8142-4c23-b6d3-fd627999180a",
   "metadata": {},
   "source": [
    "The bar chart shows that spending habits vary significantly across different U.S. regions. The South region has the highest spending, followed by the West, Midwest, and Northeast. High spenders contribute more to the total spending in all regions compared to low spenders. The Northeast has the lowest overall spending."
   ]
  },
  {
   "cell_type": "markdown",
   "id": "0a19de5d-30c6-4711-8c27-f50d51ab8fd0",
   "metadata": {},
   "source": [
    "# Task 4\n"
   ]
  },
  {
   "cell_type": "code",
   "execution_count": 63,
   "id": "f7cd0878-e68a-4fac-8ffe-bcfe589a8236",
   "metadata": {},
   "outputs": [],
   "source": [
    "#  Create an exclusion flag for low-activity customers and exclude them\n"
   ]
  },
  {
   "cell_type": "code",
   "execution_count": 64,
   "id": "03dc47f8-b95d-4cdd-8bb7-66da8777cefd",
   "metadata": {},
   "outputs": [],
   "source": [
    "cust_ords_prods_merge.loc[cust_ords_prods_merge['max_order']<5, 'activity_flag']='low_activity_customers'"
   ]
  },
  {
   "cell_type": "code",
   "execution_count": 65,
   "id": "a3f80569-c955-4c32-b6e5-103140483876",
   "metadata": {},
   "outputs": [],
   "source": [
    "cust_ords_prods_merge.loc[cust_ords_prods_merge['max_order']>5, 'activity_flag']='high_activity_customers'"
   ]
  },
  {
   "cell_type": "code",
   "execution_count": 66,
   "id": "fb163acf-2498-4e23-9b90-5caf8dd62998",
   "metadata": {},
   "outputs": [],
   "source": [
    "# subset high_activity_cust data "
   ]
  },
  {
   "cell_type": "code",
   "execution_count": 67,
   "id": "a33211f2-028e-46ea-8835-dc0c260408f8",
   "metadata": {},
   "outputs": [],
   "source": [
    "df_high_activity_cust=cust_ords_prods_merge.loc[cust_ords_prods_merge['activity_flag']=='high_activity_customers']"
   ]
  },
  {
   "cell_type": "code",
   "execution_count": 68,
   "id": "d3edf23e-97dc-4254-ac07-cc662e3fe5a3",
   "metadata": {},
   "outputs": [
    {
     "data": {
      "text/plain": [
       "(30171424, 35)"
      ]
     },
     "execution_count": 68,
     "metadata": {},
     "output_type": "execute_result"
    }
   ],
   "source": [
    "df_high_activity_cust.shape"
   ]
  },
  {
   "cell_type": "code",
   "execution_count": 69,
   "id": "4c3db963-5f15-4696-9542-cb21ce39dba6",
   "metadata": {},
   "outputs": [],
   "source": [
    "# Export high _actvity_cust data set"
   ]
  },
  {
   "cell_type": "code",
   "execution_count": 70,
   "id": "2f73e1af-7c39-43ca-a28f-6d8ec189518d",
   "metadata": {},
   "outputs": [],
   "source": [
    "df_high_activity_cust.to_pickle(r'D:\\Sonal\\career foundry\\CareerFoundry\\Data Immersion\\Achievement 4\\Exc 4.10\\df_high_activity_cust.pkl')"
   ]
  },
  {
   "cell_type": "markdown",
   "id": "6e1eb351-dc77-40fd-a575-002e03ceae31",
   "metadata": {},
   "source": [
    "# Task 5"
   ]
  },
  {
   "cell_type": "markdown",
   "id": "4e072310-1d48-48b2-a110-6f3089d05400",
   "metadata": {},
   "source": [
    "# Customer profiling\n"
   ]
  },
  {
   "cell_type": "code",
   "execution_count": 73,
   "id": "79f27107-3f77-42ae-92af-b230bf8491f4",
   "metadata": {},
   "outputs": [
    {
     "data": {
      "text/plain": [
       "(30171424, 35)"
      ]
     },
     "execution_count": 73,
     "metadata": {},
     "output_type": "execute_result"
    }
   ],
   "source": [
    "df_high_activity_cust.shape"
   ]
  },
  {
   "cell_type": "code",
   "execution_count": 74,
   "id": "405483b6-e0e5-4aa5-b96d-513589f34463",
   "metadata": {},
   "outputs": [],
   "source": [
    "# profile based on age\n"
   ]
  },
  {
   "cell_type": "code",
   "execution_count": 75,
   "id": "fc285521-8db9-4e56-83f9-b379e7cfe125",
   "metadata": {},
   "outputs": [
    {
     "name": "stderr",
     "output_type": "stream",
     "text": [
      "C:\\Users\\nmsp1\\AppData\\Local\\Temp\\ipykernel_3944\\842900059.py:1: SettingWithCopyWarning: \n",
      "A value is trying to be set on a copy of a slice from a DataFrame.\n",
      "Try using .loc[row_indexer,col_indexer] = value instead\n",
      "\n",
      "See the caveats in the documentation: https://pandas.pydata.org/pandas-docs/stable/user_guide/indexing.html#returning-a-view-versus-a-copy\n",
      "  df_high_activity_cust.loc[(df_high_activity_cust['age'] >=18) & (df_high_activity_cust['age'] <=30), 'age_group'] = 'Single Adult'\n"
     ]
    }
   ],
   "source": [
    "df_high_activity_cust.loc[(df_high_activity_cust['age'] >=18) & (df_high_activity_cust['age'] <=30), 'age_group'] = 'Single Adult'"
   ]
  },
  {
   "cell_type": "code",
   "execution_count": 76,
   "id": "759c0f22-93be-48ac-8db3-87af8d2161ce",
   "metadata": {},
   "outputs": [],
   "source": [
    "df_high_activity_cust.loc[(df_high_activity_cust['age'] > 30) & (df_high_activity_cust['age'] <= 45), 'age_group'] = 'Young Parent'"
   ]
  },
  {
   "cell_type": "code",
   "execution_count": 77,
   "id": "5217c7e2-1a93-46d4-9f1e-ba96e0259d33",
   "metadata": {},
   "outputs": [],
   "source": [
    "df_high_activity_cust.loc[(df_high_activity_cust['age'] > 45) & (df_high_activity_cust['age'] < 60), 'age_group'] = 'Mid Aged Adult'"
   ]
  },
  {
   "cell_type": "code",
   "execution_count": 78,
   "id": "d2f70a6c-9c23-4615-b820-de538cf45dec",
   "metadata": {},
   "outputs": [],
   "source": [
    "df_high_activity_cust.loc[df_high_activity_cust['age'] >= 60, 'age_group'] = 'Senior'"
   ]
  },
  {
   "cell_type": "code",
   "execution_count": 79,
   "id": "981001aa-5e2c-4c1d-8f11-2b8d32a31a8d",
   "metadata": {},
   "outputs": [
    {
     "data": {
      "text/plain": [
       "age_group\n",
       "Senior            10305785\n",
       "Young Parent       7075504\n",
       "Mid Aged Adult     6646727\n",
       "Single Adult       6143408\n",
       "Name: count, dtype: int64"
      ]
     },
     "execution_count": 79,
     "metadata": {},
     "output_type": "execute_result"
    }
   ],
   "source": [
    "df_high_activity_cust['age_group'].value_counts(dropna = False)"
   ]
  },
  {
   "cell_type": "code",
   "execution_count": 80,
   "id": "cf2b5d8a-fae4-4b21-9ccc-9e2795ee5889",
   "metadata": {},
   "outputs": [],
   "source": [
    "# Profile based on income"
   ]
  },
  {
   "cell_type": "code",
   "execution_count": 81,
   "id": "4a9aacac-b9bb-477e-ab20-b3726747509b",
   "metadata": {},
   "outputs": [
    {
     "name": "stderr",
     "output_type": "stream",
     "text": [
      "C:\\Users\\nmsp1\\AppData\\Local\\Temp\\ipykernel_3944\\1827802626.py:1: SettingWithCopyWarning: \n",
      "A value is trying to be set on a copy of a slice from a DataFrame.\n",
      "Try using .loc[row_indexer,col_indexer] = value instead\n",
      "\n",
      "See the caveats in the documentation: https://pandas.pydata.org/pandas-docs/stable/user_guide/indexing.html#returning-a-view-versus-a-copy\n",
      "  df_high_activity_cust.loc[df_high_activity_cust['income'] <= 50000, 'income_group'] = 'Low Income'\n"
     ]
    }
   ],
   "source": [
    "df_high_activity_cust.loc[df_high_activity_cust['income'] <= 50000, 'income_group'] = 'Low Income'"
   ]
  },
  {
   "cell_type": "code",
   "execution_count": 82,
   "id": "e88c10de-a976-4318-98b2-c63ad39097cc",
   "metadata": {},
   "outputs": [],
   "source": [
    "df_high_activity_cust.loc[(df_high_activity_cust['income']> 50000) & (df_high_activity_cust['income'] < 150000), 'income_group'] = 'Mid Income'"
   ]
  },
  {
   "cell_type": "code",
   "execution_count": 83,
   "id": "1ac396cc-ae08-4fa2-85d2-2a65425b72fb",
   "metadata": {},
   "outputs": [],
   "source": [
    "df_high_activity_cust.loc[df_high_activity_cust['income'] >= 150000, 'income_group'] = 'High Income'"
   ]
  },
  {
   "cell_type": "code",
   "execution_count": 84,
   "id": "68425669-cc29-4149-83ee-bdab511b4fd1",
   "metadata": {},
   "outputs": [
    {
     "data": {
      "text/plain": [
       "income_group\n",
       "Mid Income     23120016\n",
       "High Income     3802574\n",
       "Low Income      3248834\n",
       "Name: count, dtype: int64"
      ]
     },
     "execution_count": 84,
     "metadata": {},
     "output_type": "execute_result"
    }
   ],
   "source": [
    "df_high_activity_cust['income_group'].value_counts(dropna = False)"
   ]
  },
  {
   "cell_type": "code",
   "execution_count": 85,
   "id": "bed0ba9c-1c0b-4aaa-96f2-892087f6662a",
   "metadata": {},
   "outputs": [],
   "source": [
    "# Profile based on order_day_of_week"
   ]
  },
  {
   "cell_type": "code",
   "execution_count": 86,
   "id": "3e2bb39c-5a67-48f8-b609-5dbe05aaaf20",
   "metadata": {},
   "outputs": [
    {
     "name": "stderr",
     "output_type": "stream",
     "text": [
      "C:\\Users\\nmsp1\\AppData\\Local\\Temp\\ipykernel_3944\\4292663799.py:1: SettingWithCopyWarning: \n",
      "A value is trying to be set on a copy of a slice from a DataFrame.\n",
      "Try using .loc[row_indexer,col_indexer] = value instead\n",
      "\n",
      "See the caveats in the documentation: https://pandas.pydata.org/pandas-docs/stable/user_guide/indexing.html#returning-a-view-versus-a-copy\n",
      "  df_high_activity_cust.loc[df_high_activity_cust['orders_day_of_week'].isin([0,1]), 'day_group'] = 'Weekend'\n"
     ]
    }
   ],
   "source": [
    "df_high_activity_cust.loc[df_high_activity_cust['orders_day_of_week'].isin([0,1]), 'day_group'] = 'Weekend'"
   ]
  },
  {
   "cell_type": "code",
   "execution_count": 87,
   "id": "1bf65abb-e466-4025-b86f-bcfd584a3def",
   "metadata": {},
   "outputs": [],
   "source": [
    "df_high_activity_cust.loc[df_high_activity_cust['orders_day_of_week'].isin([2,3,4,5,6]), 'day_group'] = 'Weekday'"
   ]
  },
  {
   "cell_type": "code",
   "execution_count": 88,
   "id": "27401d54-63cc-43c3-9e11-22e1d07bd0ee",
   "metadata": {},
   "outputs": [
    {
     "data": {
      "text/plain": [
       "day_group\n",
       "Weekday    19149044\n",
       "Weekend    11022380\n",
       "Name: count, dtype: int64"
      ]
     },
     "execution_count": 88,
     "metadata": {},
     "output_type": "execute_result"
    }
   ],
   "source": [
    "df_high_activity_cust['day_group'].value_counts(dropna = False)"
   ]
  },
  {
   "cell_type": "code",
   "execution_count": 89,
   "id": "0542140d-5d08-4855-a070-9dba40c5c6ce",
   "metadata": {},
   "outputs": [],
   "source": [
    "# # profile based on order_hour_of_day"
   ]
  },
  {
   "cell_type": "code",
   "execution_count": 90,
   "id": "ef16c843-bc32-4347-8785-264c90fd2f68",
   "metadata": {},
   "outputs": [
    {
     "name": "stderr",
     "output_type": "stream",
     "text": [
      "C:\\Users\\nmsp1\\AppData\\Local\\Temp\\ipykernel_3944\\334530809.py:1: SettingWithCopyWarning: \n",
      "A value is trying to be set on a copy of a slice from a DataFrame.\n",
      "Try using .loc[row_indexer,col_indexer] = value instead\n",
      "\n",
      "See the caveats in the documentation: https://pandas.pydata.org/pandas-docs/stable/user_guide/indexing.html#returning-a-view-versus-a-copy\n",
      "  df_high_activity_cust.loc[(df_high_activity_cust['order_hour_of_day'] >= 6) & (df_high_activity_cust['order_hour_of_day'] < 12), 'Hour_group'] = 'Morning Shopper'\n"
     ]
    }
   ],
   "source": [
    "df_high_activity_cust.loc[(df_high_activity_cust['order_hour_of_day'] >= 6) & (df_high_activity_cust['order_hour_of_day'] < 12), 'Hour_group'] = 'Morning Shopper'"
   ]
  },
  {
   "cell_type": "code",
   "execution_count": 91,
   "id": "c96329f6-eb01-453d-8174-a3b886f479df",
   "metadata": {},
   "outputs": [],
   "source": [
    "df_high_activity_cust.loc[(df_high_activity_cust['order_hour_of_day'] >= 12) & (df_high_activity_cust['order_hour_of_day'] < 17), 'Hour_group'] = 'Afternoon Shopper'"
   ]
  },
  {
   "cell_type": "code",
   "execution_count": 92,
   "id": "521f6f82-8f19-42aa-870e-2af9e923c969",
   "metadata": {},
   "outputs": [],
   "source": [
    "df_high_activity_cust.loc[(df_high_activity_cust['order_hour_of_day'] >= 17) & (df_high_activity_cust['order_hour_of_day'] < 21), 'Hour_group'] = 'Evening Shopper'"
   ]
  },
  {
   "cell_type": "code",
   "execution_count": 93,
   "id": "f2e1a5a8-3297-4f62-b402-11763f14f45b",
   "metadata": {},
   "outputs": [],
   "source": [
    "df_high_activity_cust.loc[(df_high_activity_cust['order_hour_of_day'] >= 21) & (df_high_activity_cust['order_hour_of_day'] < 6), 'Hour_group'] = 'Night Shopper'"
   ]
  },
  {
   "cell_type": "code",
   "execution_count": 94,
   "id": "2fea3a97-236b-463c-a557-ac94179d9f05",
   "metadata": {},
   "outputs": [
    {
     "data": {
      "text/plain": [
       "Hour_group\n",
       "Afternoon Shopper    12214485\n",
       "Morning Shopper      10198759\n",
       "Evening Shopper       5495896\n",
       "NaN                   2262284\n",
       "Name: count, dtype: int64"
      ]
     },
     "execution_count": 94,
     "metadata": {},
     "output_type": "execute_result"
    }
   ],
   "source": [
    "df_high_activity_cust['Hour_group'].value_counts(dropna = False)"
   ]
  },
  {
   "cell_type": "code",
   "execution_count": 95,
   "id": "65a8ebf5-e44c-4e59-8677-9d2b8e282cb8",
   "metadata": {},
   "outputs": [],
   "source": [
    " # profile based on dependants"
   ]
  },
  {
   "cell_type": "code",
   "execution_count": 96,
   "id": "32304bd5-128f-465d-874a-5e9bf2191063",
   "metadata": {},
   "outputs": [
    {
     "name": "stderr",
     "output_type": "stream",
     "text": [
      "C:\\Users\\nmsp1\\AppData\\Local\\Temp\\ipykernel_3944\\1286796603.py:1: SettingWithCopyWarning: \n",
      "A value is trying to be set on a copy of a slice from a DataFrame.\n",
      "Try using .loc[row_indexer,col_indexer] = value instead\n",
      "\n",
      "See the caveats in the documentation: https://pandas.pydata.org/pandas-docs/stable/user_guide/indexing.html#returning-a-view-versus-a-copy\n",
      "  df_high_activity_cust.loc[df_high_activity_cust['dependants'].isin([0,1]), 'Household size'] = 'Small'\n"
     ]
    }
   ],
   "source": [
    "df_high_activity_cust.loc[df_high_activity_cust['dependants'].isin([0,1]), 'Household size'] = 'Small'"
   ]
  },
  {
   "cell_type": "code",
   "execution_count": 97,
   "id": "0d3bfa80-1cb3-4783-9c1c-7968983c93c3",
   "metadata": {},
   "outputs": [],
   "source": [
    "df_high_activity_cust.loc[df_high_activity_cust['dependants'].isin([2,3]), 'Household size'] = 'Big'"
   ]
  },
  {
   "cell_type": "code",
   "execution_count": 98,
   "id": "1e618ace-6033-4126-928a-7008e338b320",
   "metadata": {},
   "outputs": [
    {
     "data": {
      "text/plain": [
       "Household size\n",
       "Big      15108568\n",
       "Small    15062856\n",
       "Name: count, dtype: int64"
      ]
     },
     "execution_count": 98,
     "metadata": {},
     "output_type": "execute_result"
    }
   ],
   "source": [
    "df_high_activity_cust['Household size'].value_counts(dropna = False)"
   ]
  },
  {
   "cell_type": "markdown",
   "id": "fd515a67-f120-4511-9eb7-331f93680113",
   "metadata": {},
   "source": [
    "# Task 6"
   ]
  },
  {
   "cell_type": "markdown",
   "id": "1526a2e1-e710-4d9b-ba3f-5576cdf115f8",
   "metadata": {},
   "source": [
    "# visualization-Age"
   ]
  },
  {
   "cell_type": "code",
   "execution_count": 241,
   "id": "f4bd8b3c-6f40-4b60-9a21-9881cb66179c",
   "metadata": {},
   "outputs": [
    {
     "data": {
      "image/png": "[encoded data removed]",
      "text/plain": [
       "<Figure size 640x480 with 1 Axes>"
      ]
     },
     "metadata": {},
     "output_type": "display_data"
    }
   ],
   "source": [
    "Bar1=df_high_activity_cust['age_group'].value_counts().plot.bar()\n",
    "bar=Bar1.figure.savefig(r'D:\\Sonal\\career foundry\\CareerFoundry\\Data Immersion\\Achievement 4\\Exc 4.3\\Analysis\\viz\\age_group.png')"
   ]
  },
  {
   "cell_type": "markdown",
   "id": "bc887114-d927-4bd7-aaac-924f3fdbcd71",
   "metadata": {},
   "source": [
    "The chart shows age group distribution, with Seniors being the largest group at nearly 10 million, followed by Young Parents, Mid Aged Adults, and Single Adults in descending order."
   ]
  },
  {
   "cell_type": "markdown",
   "id": "d499a447-986d-4126-96c0-b33adc42c530",
   "metadata": {},
   "source": [
    "# visualization-income"
   ]
  },
  {
   "cell_type": "code",
   "execution_count": 104,
   "id": "d51a8ed3-24c2-4e83-a56a-dc9e4b618cc8",
   "metadata": {},
   "outputs": [],
   "source": [
    "income_group_counts = df_high_activity_cust['income_group'].value_counts()"
   ]
  },
  {
   "cell_type": "code",
   "execution_count": 239,
   "id": "642f1542-b7db-492d-9d85-7dc4ee71c80c",
   "metadata": {},
   "outputs": [
    {
     "data": {
      "image/png": "[encoded data removed]",
      "text/plain": [
       "<Figure size 600x600 with 1 Axes>"
      ]
     },
     "metadata": {},
     "output_type": "display_data"
    }
   ],
   "source": [
    "plt.figure(figsize=(6, 6))\n",
    "plt.pie(income_group_counts, \n",
    "        labels = income_group_counts.index, \n",
    "        autopct='%.1f%%',\n",
    "        colors = ['skyblue', 'pink', 'yellow'])\n",
    "plt.title('Income Group Distribustion')\n",
    "plt.savefig(os.path.join(path, 'Analysis', 'viz', 'customers_age_groups_pie.png'), bbox_inches = 'tight')\n",
    "plt.show()"
   ]
  },
  {
   "cell_type": "markdown",
   "id": "8ab3a9f0-8215-4839-8508-d7e98dbdc77d",
   "metadata": {},
   "source": [
    "The pie chart shows income distribution:\n",
    "\n",
    "Mid Income dominates at 76.7%\n",
    "High Income follows at 12.6%\n",
    "Low Income is smallest at 10.7%\n",
    "\n",
    "There's a large gap between Mid Income and the other categories, while High and Low Income groups are similar in size."
   ]
  },
  {
   "cell_type": "markdown",
   "id": "e3b7c6f8-cade-4267-8bbc-3aa6e7f89c72",
   "metadata": {},
   "source": [
    "# visualization-order_day_of_week"
   ]
  },
  {
   "cell_type": "code",
   "execution_count": 108,
   "id": "e4617763-c48c-4013-bb6a-1dfa12239ba8",
   "metadata": {},
   "outputs": [],
   "source": [
    "day_group_counts = df_high_activity_cust['day_group'].value_counts()"
   ]
  },
  {
   "cell_type": "code",
   "execution_count": 244,
   "id": "10b45877-a64a-46c3-b4cc-32cc4dfa6007",
   "metadata": {},
   "outputs": [
    {
     "data": {
      "image/png": "[encoded data removed]",
      "text/plain": [
       "<Figure size 600x600 with 1 Axes>"
      ]
     },
     "metadata": {},
     "output_type": "display_data"
    }
   ],
   "source": [
    "plt.figure(figsize=(6, 6))\n",
    "plt.pie(day_group_counts, \n",
    "        labels = day_group_counts.index, \n",
    "        autopct='%.1f%%',\n",
    "        colors = ['skyblue', 'pink', 'yellow'])\n",
    "plt.title('Day Group Distribustion')\n",
    "plt.savefig(os.path.join(path, 'Analysis', 'viz', 'order_day_of_week_pie.png'), bbox_inches = 'tight')\n",
    "plt.show()"
   ]
  },
  {
   "cell_type": "markdown",
   "id": "c16a6c2c-2325-4c9c-99c5-851d71689e7f",
   "metadata": {},
   "source": [
    "The pie chart shows the distribution of day groups:\n",
    "\n",
    "Weekdays account for 63.5% of the total\n",
    "Weekends make up 36.5%"
   ]
  },
  {
   "cell_type": "markdown",
   "id": "6460b4fe-488f-4422-b376-b37e4c775007",
   "metadata": {},
   "source": [
    "# visualization-order_hour_of_day\n"
   ]
  },
  {
   "cell_type": "code",
   "execution_count": 112,
   "id": "45ebe8df-eae4-41c2-a45b-98cabc8b576e",
   "metadata": {},
   "outputs": [
    {
     "data": {
      "image/png": "[encoded data removed]",
      "text/plain": [
       "<Figure size 640x480 with 1 Axes>"
      ]
     },
     "metadata": {},
     "output_type": "display_data"
    }
   ],
   "source": [
    "Bar2 =Bar1=df_high_activity_cust['Hour_group'].value_counts().plot.bar(color=['pink','blue','orange'])"
   ]
  },
  {
   "cell_type": "markdown",
   "id": "b697c301-4f0f-4ed8-bae0-cd9079461b31",
   "metadata": {},
   "source": [
    "The data indicates that shopping activity peaks in the afternoon, remains strong in the morning, and decreases significantly in the evening. "
   ]
  },
  {
   "cell_type": "markdown",
   "id": "b3832823-1ffc-4a8d-8acf-a70e243de22d",
   "metadata": {},
   "source": [
    "# visualization-Household size"
   ]
  },
  {
   "cell_type": "code",
   "execution_count": 115,
   "id": "6542888f-7d8c-425a-a00b-4e159897fa4b",
   "metadata": {},
   "outputs": [],
   "source": [
    "household_size_table = df_high_activity_cust['Household size'].value_counts()"
   ]
  },
  {
   "cell_type": "code",
   "execution_count": 250,
   "id": "ff493397-1fe8-457f-88d2-7651975b1a4f",
   "metadata": {},
   "outputs": [
    {
     "data": {
      "image/png": "[encoded data removed]",
      "text/plain": [
       "<Figure size 600x600 with 1 Axes>"
      ]
     },
     "metadata": {},
     "output_type": "display_data"
    }
   ],
   "source": [
    "plt.figure(figsize=(6, 6)) # Control size of chart\n",
    "plt.pie(household_size_table, \n",
    "        #labels = household_size_table.index, \n",
    "        labels = ('Big - 2 or 3 dependents', 'Small - zero or 1 dependent'),\n",
    "        autopct='%.1f%%', # Show percentage to 1 d.p\n",
    "        wedgeprops = {'edgecolor' : 'black'}) # boarders\n",
    "plt.title('Instacart Distribution of Customers by Household Size') # title\n",
    "plt.savefig(os.path.join(path,'Analysis', 'viz','Household_size_pie.png'), bbox_inches = 'tight')\n",
    "plt.show()"
   ]
  },
  {
   "cell_type": "markdown",
   "id": "b57a10b9-9121-469d-ba4d-317cd60a27a9",
   "metadata": {},
   "source": [
    "The distribution is almost evenly split, with a negligible 0.2% difference favoring larger households. This suggests that Instacart's customer base is balanced between smaller and larger households"
   ]
  },
  {
   "cell_type": "code",
   "execution_count": 118,
   "id": "d9f66171-4086-4449-8df1-d40b3481d40e",
   "metadata": {},
   "outputs": [
    {
     "data": {
      "text/plain": [
       "(30171424, 40)"
      ]
     },
     "execution_count": 118,
     "metadata": {},
     "output_type": "execute_result"
    }
   ],
   "source": [
    "df_high_activity_cust.shape"
   ]
  },
  {
   "cell_type": "code",
   "execution_count": 119,
   "id": "519e7b04-0123-4479-af60-256599504581",
   "metadata": {},
   "outputs": [
    {
     "data": {
      "text/html": [
       "<div>\n",
       "<style scoped>\n",
       "    .dataframe tbody tr th:only-of-type {\n",
       "        vertical-align: middle;\n",
       "    }\n",
       "\n",
       "    .dataframe tbody tr th {\n",
       "        vertical-align: top;\n",
       "    }\n",
       "\n",
       "    .dataframe thead th {\n",
       "        text-align: right;\n",
       "    }\n",
       "</style>\n",
       "<table border=\"1\" class=\"dataframe\">\n",
       "  <thead>\n",
       "    <tr style=\"text-align: right;\">\n",
       "      <th></th>\n",
       "      <th>product_id</th>\n",
       "      <th>product_name</th>\n",
       "      <th>aisle_id</th>\n",
       "      <th>department_id</th>\n",
       "      <th>prices</th>\n",
       "      <th>order_id</th>\n",
       "      <th>user_id</th>\n",
       "      <th>order_number</th>\n",
       "      <th>orders_day_of_week</th>\n",
       "      <th>order_hour_of_day</th>\n",
       "      <th>...</th>\n",
       "      <th>fam_status</th>\n",
       "      <th>income</th>\n",
       "      <th>_merge</th>\n",
       "      <th>region</th>\n",
       "      <th>activity_flag</th>\n",
       "      <th>age_group</th>\n",
       "      <th>income_group</th>\n",
       "      <th>day_group</th>\n",
       "      <th>Hour_group</th>\n",
       "      <th>Household size</th>\n",
       "    </tr>\n",
       "  </thead>\n",
       "  <tbody>\n",
       "    <tr>\n",
       "      <th>0</th>\n",
       "      <td>1</td>\n",
       "      <td>Chocolate Sandwich Cookies</td>\n",
       "      <td>61</td>\n",
       "      <td>19</td>\n",
       "      <td>5.8</td>\n",
       "      <td>3139998</td>\n",
       "      <td>138</td>\n",
       "      <td>28</td>\n",
       "      <td>6</td>\n",
       "      <td>11</td>\n",
       "      <td>...</td>\n",
       "      <td>married</td>\n",
       "      <td>49620</td>\n",
       "      <td>both</td>\n",
       "      <td>Midwest</td>\n",
       "      <td>high_activity_customers</td>\n",
       "      <td>Senior</td>\n",
       "      <td>Low Income</td>\n",
       "      <td>Weekday</td>\n",
       "      <td>Morning Shopper</td>\n",
       "      <td>Small</td>\n",
       "    </tr>\n",
       "    <tr>\n",
       "      <th>1</th>\n",
       "      <td>1</td>\n",
       "      <td>Chocolate Sandwich Cookies</td>\n",
       "      <td>61</td>\n",
       "      <td>19</td>\n",
       "      <td>5.8</td>\n",
       "      <td>1977647</td>\n",
       "      <td>138</td>\n",
       "      <td>30</td>\n",
       "      <td>6</td>\n",
       "      <td>17</td>\n",
       "      <td>...</td>\n",
       "      <td>married</td>\n",
       "      <td>49620</td>\n",
       "      <td>both</td>\n",
       "      <td>Midwest</td>\n",
       "      <td>high_activity_customers</td>\n",
       "      <td>Senior</td>\n",
       "      <td>Low Income</td>\n",
       "      <td>Weekday</td>\n",
       "      <td>Evening Shopper</td>\n",
       "      <td>Small</td>\n",
       "    </tr>\n",
       "    <tr>\n",
       "      <th>5</th>\n",
       "      <td>1</td>\n",
       "      <td>Chocolate Sandwich Cookies</td>\n",
       "      <td>61</td>\n",
       "      <td>19</td>\n",
       "      <td>5.8</td>\n",
       "      <td>1701441</td>\n",
       "      <td>777</td>\n",
       "      <td>16</td>\n",
       "      <td>1</td>\n",
       "      <td>7</td>\n",
       "      <td>...</td>\n",
       "      <td>married</td>\n",
       "      <td>57797</td>\n",
       "      <td>both</td>\n",
       "      <td>West</td>\n",
       "      <td>high_activity_customers</td>\n",
       "      <td>Mid Aged Adult</td>\n",
       "      <td>Mid Income</td>\n",
       "      <td>Weekend</td>\n",
       "      <td>Morning Shopper</td>\n",
       "      <td>Big</td>\n",
       "    </tr>\n",
       "    <tr>\n",
       "      <th>6</th>\n",
       "      <td>1</td>\n",
       "      <td>Chocolate Sandwich Cookies</td>\n",
       "      <td>61</td>\n",
       "      <td>19</td>\n",
       "      <td>5.8</td>\n",
       "      <td>1871483</td>\n",
       "      <td>825</td>\n",
       "      <td>3</td>\n",
       "      <td>2</td>\n",
       "      <td>14</td>\n",
       "      <td>...</td>\n",
       "      <td>living with parents and siblings</td>\n",
       "      <td>34171</td>\n",
       "      <td>both</td>\n",
       "      <td>South</td>\n",
       "      <td>high_activity_customers</td>\n",
       "      <td>Single Adult</td>\n",
       "      <td>Low Income</td>\n",
       "      <td>Weekday</td>\n",
       "      <td>Afternoon Shopper</td>\n",
       "      <td>Big</td>\n",
       "    </tr>\n",
       "    <tr>\n",
       "      <th>7</th>\n",
       "      <td>1</td>\n",
       "      <td>Chocolate Sandwich Cookies</td>\n",
       "      <td>61</td>\n",
       "      <td>19</td>\n",
       "      <td>5.8</td>\n",
       "      <td>1290456</td>\n",
       "      <td>910</td>\n",
       "      <td>12</td>\n",
       "      <td>3</td>\n",
       "      <td>10</td>\n",
       "      <td>...</td>\n",
       "      <td>divorced/widowed</td>\n",
       "      <td>44856</td>\n",
       "      <td>both</td>\n",
       "      <td>South</td>\n",
       "      <td>high_activity_customers</td>\n",
       "      <td>Senior</td>\n",
       "      <td>Low Income</td>\n",
       "      <td>Weekday</td>\n",
       "      <td>Morning Shopper</td>\n",
       "      <td>Small</td>\n",
       "    </tr>\n",
       "  </tbody>\n",
       "</table>\n",
       "<p>5 rows × 40 columns</p>\n",
       "</div>"
      ],
      "text/plain": [
       "   product_id                product_name  aisle_id  department_id  prices  \\\n",
       "0           1  Chocolate Sandwich Cookies        61             19     5.8   \n",
       "1           1  Chocolate Sandwich Cookies        61             19     5.8   \n",
       "5           1  Chocolate Sandwich Cookies        61             19     5.8   \n",
       "6           1  Chocolate Sandwich Cookies        61             19     5.8   \n",
       "7           1  Chocolate Sandwich Cookies        61             19     5.8   \n",
       "\n",
       "   order_id user_id  order_number  orders_day_of_week  order_hour_of_day  ...  \\\n",
       "0   3139998     138            28                   6                 11  ...   \n",
       "1   1977647     138            30                   6                 17  ...   \n",
       "5   1701441     777            16                   1                  7  ...   \n",
       "6   1871483     825             3                   2                 14  ...   \n",
       "7   1290456     910            12                   3                 10  ...   \n",
       "\n",
       "                         fam_status  income  _merge   region  \\\n",
       "0                           married   49620    both  Midwest   \n",
       "1                           married   49620    both  Midwest   \n",
       "5                           married   57797    both     West   \n",
       "6  living with parents and siblings   34171    both    South   \n",
       "7                  divorced/widowed   44856    both    South   \n",
       "\n",
       "             activity_flag       age_group income_group  day_group  \\\n",
       "0  high_activity_customers          Senior   Low Income    Weekday   \n",
       "1  high_activity_customers          Senior   Low Income    Weekday   \n",
       "5  high_activity_customers  Mid Aged Adult   Mid Income    Weekend   \n",
       "6  high_activity_customers    Single Adult   Low Income    Weekday   \n",
       "7  high_activity_customers          Senior   Low Income    Weekday   \n",
       "\n",
       "          Hour_group  Household size  \n",
       "0    Morning Shopper           Small  \n",
       "1    Evening Shopper           Small  \n",
       "5    Morning Shopper             Big  \n",
       "6  Afternoon Shopper             Big  \n",
       "7    Morning Shopper           Small  \n",
       "\n",
       "[5 rows x 40 columns]"
      ]
     },
     "execution_count": 119,
     "metadata": {},
     "output_type": "execute_result"
    }
   ],
   "source": [
    "df_high_activity_cust.head(5)"
   ]
  },
  {
   "cell_type": "markdown",
   "id": "289bbf67-28b7-42d2-898d-e0fcc1898a09",
   "metadata": {},
   "source": [
    "# Task 7"
   ]
  },
  {
   "cell_type": "code",
   "execution_count": 121,
   "id": "e1d3ae33-47eb-4822-80c0-32b7ae608c63",
   "metadata": {},
   "outputs": [],
   "source": [
    "# Aggregate the max, mean, and min variables on a customer-profile level for usage frequency and expenditure."
   ]
  },
  {
   "cell_type": "markdown",
   "id": "a329dd31-33e1-4ac5-a29a-bcdfbfc705e4",
   "metadata": {},
   "source": [
    "This analysis will provides insights into customer behavior patterns, showing the range and typical values of how often they use the service and how much they spend. It helps identify high-value customers, occasional users, and overall usage trends.\r\n",
    "\r\n"
   ]
  },
  {
   "cell_type": "code",
   "execution_count": 123,
   "id": "5cd9c1a7-4419-42f8-863b-8089ec91cfa7",
   "metadata": {},
   "outputs": [],
   "source": [
    "# To be continued in the next part of the notebook.\n"
   ]
  },
  {
   "cell_type": "markdown",
   "id": "134d6187-e1f4-48d0-9300-8cff45c602ed",
   "metadata": {},
   "source": [
    "# Export the data"
   ]
  },
  {
   "cell_type": "code",
   "execution_count": 125,
   "id": "8b8eca22-111a-41bb-8c6f-0b655c7f1a65",
   "metadata": {},
   "outputs": [],
   "source": [
    "df_high_activity_cust.to_pickle(r'D:\\Sonal\\career foundry\\CareerFoundry\\Data Immersion\\Achievement 4\\Exc 4.10\\Active_cust_new.pkl')"
   ]
  },
  {
   "cell_type": "code",
   "execution_count": 126,
   "id": "9f9a6e54-3ff5-4dec-9c2c-dfa5f1961a26",
   "metadata": {},
   "outputs": [
    {
     "data": {
      "text/plain": [
       "(30171424, 40)"
      ]
     },
     "execution_count": 126,
     "metadata": {},
     "output_type": "execute_result"
    }
   ],
   "source": [
    "df_high_activity_cust.shape"
   ]
  },
  {
   "cell_type": "code",
   "execution_count": null,
   "id": "03fa1063-c4d0-49d7-b310-16d88000fbf7",
   "metadata": {},
   "outputs": [],
   "source": []
  }
 ],
 "metadata": {
  "kernelspec": {
   "display_name": "Python 3 (ipykernel)",
   "language": "python",
   "name": "python3"
  },
  "language_info": {
   "codemirror_mode": {
    "name": "ipython",
    "version": 3
   },
   "file_extension": ".py",
   "mimetype": "text/x-python",
   "name": "python",
   "nbconvert_exporter": "python",
   "pygments_lexer": "ipython3",
   "version": "3.11.7"
  }
 },
 "nbformat": 4,
 "nbformat_minor": 5
}
