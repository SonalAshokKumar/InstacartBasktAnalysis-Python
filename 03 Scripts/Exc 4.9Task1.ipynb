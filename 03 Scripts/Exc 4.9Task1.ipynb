{
 "cells": [
  {
   "cell_type": "markdown",
   "id": "809beb94-6ae7-4c88-bc44-6f4c7b672ab0",
   "metadata": {},
   "source": [
    "# Import Libraries"
   ]
  },
  {
   "cell_type": "code",
   "execution_count": 11,
   "id": "c7005b65-f408-46ed-b061-327daed831ae",
   "metadata": {},
   "outputs": [],
   "source": [
    "#importing libraries\n",
    "import pandas as pd\n",
    "import numpy as np\n",
    "import os"
   ]
  },
  {
   "cell_type": "markdown",
   "id": "b7165961-33e7-47f6-b2a1-de5a18ba871a",
   "metadata": {},
   "source": [
    "# Import data"
   ]
  },
  {
   "cell_type": "code",
   "execution_count": 13,
   "id": "4dde9122-7586-4364-a933-f3ada3ce9046",
   "metadata": {},
   "outputs": [],
   "source": [
    "#import customer data\n"
   ]
  },
  {
   "cell_type": "code",
   "execution_count": 144,
   "id": "0eaafece-e17c-4b84-9bdf-536ca4678e9f",
   "metadata": {},
   "outputs": [],
   "source": [
    "path=r'D:\\Sonal\\career foundry\\CareerFoundry\\Data Immersion\\Achievement 4\\Exc 4.3'"
   ]
  },
  {
   "cell_type": "code",
   "execution_count": 14,
   "id": "230196aa-1cc0-463e-a137-3f95ec9f918c",
   "metadata": {},
   "outputs": [],
   "source": [
    "df_cust=pd.read_csv(r'D:\\Sonal\\career foundry\\CareerFoundry\\Data Immersion\\Achievement 4\\Exc 4.3\\Original data\\customers\\customers.csv',index_col=False)"
   ]
  },
  {
   "cell_type": "code",
   "execution_count": 15,
   "id": "ea4d2090-c52a-4a62-be63-815ccc7a9d89",
   "metadata": {},
   "outputs": [
    {
     "data": {
      "text/html": [
       "<div>\n",
       "<style scoped>\n",
       "    .dataframe tbody tr th:only-of-type {\n",
       "        vertical-align: middle;\n",
       "    }\n",
       "\n",
       "    .dataframe tbody tr th {\n",
       "        vertical-align: top;\n",
       "    }\n",
       "\n",
       "    .dataframe thead th {\n",
       "        text-align: right;\n",
       "    }\n",
       "</style>\n",
       "<table border=\"1\" class=\"dataframe\">\n",
       "  <thead>\n",
       "    <tr style=\"text-align: right;\">\n",
       "      <th></th>\n",
       "      <th>user_id</th>\n",
       "      <th>First Name</th>\n",
       "      <th>Surnam</th>\n",
       "      <th>Gender</th>\n",
       "      <th>STATE</th>\n",
       "      <th>Age</th>\n",
       "      <th>date_joined</th>\n",
       "      <th>n_dependants</th>\n",
       "      <th>fam_status</th>\n",
       "      <th>income</th>\n",
       "    </tr>\n",
       "  </thead>\n",
       "  <tbody>\n",
       "    <tr>\n",
       "      <th>0</th>\n",
       "      <td>26711</td>\n",
       "      <td>Deborah</td>\n",
       "      <td>Esquivel</td>\n",
       "      <td>Female</td>\n",
       "      <td>Missouri</td>\n",
       "      <td>48</td>\n",
       "      <td>1/1/2017</td>\n",
       "      <td>3</td>\n",
       "      <td>married</td>\n",
       "      <td>165665</td>\n",
       "    </tr>\n",
       "    <tr>\n",
       "      <th>1</th>\n",
       "      <td>33890</td>\n",
       "      <td>Patricia</td>\n",
       "      <td>Hart</td>\n",
       "      <td>Female</td>\n",
       "      <td>New Mexico</td>\n",
       "      <td>36</td>\n",
       "      <td>1/1/2017</td>\n",
       "      <td>0</td>\n",
       "      <td>single</td>\n",
       "      <td>59285</td>\n",
       "    </tr>\n",
       "    <tr>\n",
       "      <th>2</th>\n",
       "      <td>65803</td>\n",
       "      <td>Kenneth</td>\n",
       "      <td>Farley</td>\n",
       "      <td>Male</td>\n",
       "      <td>Idaho</td>\n",
       "      <td>35</td>\n",
       "      <td>1/1/2017</td>\n",
       "      <td>2</td>\n",
       "      <td>married</td>\n",
       "      <td>99568</td>\n",
       "    </tr>\n",
       "    <tr>\n",
       "      <th>3</th>\n",
       "      <td>125935</td>\n",
       "      <td>Michelle</td>\n",
       "      <td>Hicks</td>\n",
       "      <td>Female</td>\n",
       "      <td>Iowa</td>\n",
       "      <td>40</td>\n",
       "      <td>1/1/2017</td>\n",
       "      <td>0</td>\n",
       "      <td>single</td>\n",
       "      <td>42049</td>\n",
       "    </tr>\n",
       "    <tr>\n",
       "      <th>4</th>\n",
       "      <td>130797</td>\n",
       "      <td>Ann</td>\n",
       "      <td>Gilmore</td>\n",
       "      <td>Female</td>\n",
       "      <td>Maryland</td>\n",
       "      <td>26</td>\n",
       "      <td>1/1/2017</td>\n",
       "      <td>1</td>\n",
       "      <td>married</td>\n",
       "      <td>40374</td>\n",
       "    </tr>\n",
       "  </tbody>\n",
       "</table>\n",
       "</div>"
      ],
      "text/plain": [
       "   user_id First Name    Surnam  Gender       STATE  Age date_joined  \\\n",
       "0    26711    Deborah  Esquivel  Female    Missouri   48    1/1/2017   \n",
       "1    33890   Patricia      Hart  Female  New Mexico   36    1/1/2017   \n",
       "2    65803    Kenneth    Farley    Male       Idaho   35    1/1/2017   \n",
       "3   125935   Michelle     Hicks  Female        Iowa   40    1/1/2017   \n",
       "4   130797        Ann   Gilmore  Female    Maryland   26    1/1/2017   \n",
       "\n",
       "   n_dependants fam_status  income  \n",
       "0             3    married  165665  \n",
       "1             0     single   59285  \n",
       "2             2    married   99568  \n",
       "3             0     single   42049  \n",
       "4             1    married   40374  "
      ]
     },
     "execution_count": 15,
     "metadata": {},
     "output_type": "execute_result"
    }
   ],
   "source": [
    "df_cust.head()"
   ]
  },
  {
   "cell_type": "code",
   "execution_count": 16,
   "id": "9d6f408f-1aa2-4024-9758-20347c558913",
   "metadata": {},
   "outputs": [
    {
     "data": {
      "text/plain": [
       "(206209, 10)"
      ]
     },
     "execution_count": 16,
     "metadata": {},
     "output_type": "execute_result"
    }
   ],
   "source": [
    "df_cust.shape"
   ]
  },
  {
   "cell_type": "code",
   "execution_count": 17,
   "id": "fdbb9a3a-744c-4dec-90a4-09bd7199276a",
   "metadata": {},
   "outputs": [
    {
     "data": {
      "text/plain": [
       "user_id          int64\n",
       "First Name      object\n",
       "Surnam          object\n",
       "Gender          object\n",
       "STATE           object\n",
       "Age              int64\n",
       "date_joined     object\n",
       "n_dependants     int64\n",
       "fam_status      object\n",
       "income           int64\n",
       "dtype: object"
      ]
     },
     "execution_count": 17,
     "metadata": {},
     "output_type": "execute_result"
    }
   ],
   "source": [
    "df_cust.dtypes"
   ]
  },
  {
   "cell_type": "markdown",
   "id": "6209d8ee-6d96-4cf8-b9f8-b5130c370ce5",
   "metadata": {},
   "source": [
    "# data wrangling"
   ]
  },
  {
   "cell_type": "code",
   "execution_count": 19,
   "id": "131224da-429f-4bc4-a6a6-8ac3086f4246",
   "metadata": {},
   "outputs": [],
   "source": [
    "# columns rename"
   ]
  },
  {
   "cell_type": "code",
   "execution_count": 20,
   "id": "84338207-b9f6-443f-a882-3863b22c4ad5",
   "metadata": {},
   "outputs": [],
   "source": [
    "df_cust.rename(columns={'Surnam':'surname'},inplace=True)"
   ]
  },
  {
   "cell_type": "code",
   "execution_count": 21,
   "id": "0a3257b1-3ad5-4017-afae-a03ba3d31ff8",
   "metadata": {},
   "outputs": [],
   "source": [
    "df_cust.rename(columns={'First Name':'first_name'},inplace=True)"
   ]
  },
  {
   "cell_type": "code",
   "execution_count": 22,
   "id": "4bcf7172-66ce-4ddf-a0fb-1f57a47ef2d9",
   "metadata": {},
   "outputs": [],
   "source": [
    "df_cust.rename(columns={'Gender':'gender'},inplace=True)"
   ]
  },
  {
   "cell_type": "code",
   "execution_count": 23,
   "id": "96cb8f92-ada7-44dd-abbe-0638bdd6f28f",
   "metadata": {},
   "outputs": [],
   "source": [
    "df_cust.rename(columns={'STATE':'state'},inplace=True)"
   ]
  },
  {
   "cell_type": "code",
   "execution_count": 24,
   "id": "e77d7cfe-ba93-495e-854d-77640ee038ae",
   "metadata": {},
   "outputs": [],
   "source": [
    "df_cust.rename(columns={'Age':'age'},inplace=True)"
   ]
  },
  {
   "cell_type": "code",
   "execution_count": 25,
   "id": "e3bebc3b-1852-4d60-8a25-e3c24e619af9",
   "metadata": {},
   "outputs": [],
   "source": [
    "df_cust.rename(columns={'n_dependants':'dependants'},inplace=True)"
   ]
  },
  {
   "cell_type": "code",
   "execution_count": 26,
   "id": "0c798b77-97d3-4ebb-969c-930f163ce720",
   "metadata": {},
   "outputs": [
    {
     "data": {
      "text/plain": [
       "Index(['user_id', 'first_name', 'surname', 'gender', 'state', 'age',\n",
       "       'date_joined', 'dependants', 'fam_status', 'income'],\n",
       "      dtype='object')"
      ]
     },
     "execution_count": 26,
     "metadata": {},
     "output_type": "execute_result"
    }
   ],
   "source": [
    "df_cust.columns"
   ]
  },
  {
   "cell_type": "markdown",
   "id": "f43466d2-a539-495f-af63-4c624dcb0025",
   "metadata": {},
   "source": [
    "# data consistency checks"
   ]
  },
  {
   "cell_type": "code",
   "execution_count": 28,
   "id": "fb07497d-0f0d-4f57-b410-135525a47f54",
   "metadata": {},
   "outputs": [],
   "source": [
    "# check mixed type column"
   ]
  },
  {
   "cell_type": "code",
   "execution_count": 29,
   "id": "58272cff-6b6b-42cc-83ff-f24f3749cb4d",
   "metadata": {},
   "outputs": [
    {
     "name": "stdout",
     "output_type": "stream",
     "text": [
      "first_name\n"
     ]
    }
   ],
   "source": [
    "for col in df_cust.columns.tolist():\n",
    "  weird = (df_cust[[col]].map(type) != df_cust[[col]].iloc[0].apply(type)).any(axis = 1)\n",
    "  if len (df_cust[weird]) > 0:\n",
    "    print (col)"
   ]
  },
  {
   "cell_type": "code",
   "execution_count": 30,
   "id": "391be1b2-072f-4883-a402-9f2ee589614f",
   "metadata": {},
   "outputs": [],
   "source": [
    "# change it to str type"
   ]
  },
  {
   "cell_type": "code",
   "execution_count": 31,
   "id": "0da23fcb-fef1-4b0f-8c21-415f1e835877",
   "metadata": {},
   "outputs": [],
   "source": [
    "df_cust['first_name'] = df_cust['first_name'].astype('str')"
   ]
  },
  {
   "cell_type": "code",
   "execution_count": 32,
   "id": "f64230e5-7dd1-47ba-b3f4-cad72987c2cd",
   "metadata": {},
   "outputs": [],
   "source": [
    "# change 'user_id' to 'str'"
   ]
  },
  {
   "cell_type": "code",
   "execution_count": 33,
   "id": "c167c9cc-2b4b-4e15-b2fc-32002142f366",
   "metadata": {},
   "outputs": [],
   "source": [
    "df_cust['user_id'] = df_cust['user_id'].astype('str')"
   ]
  },
  {
   "cell_type": "code",
   "execution_count": 34,
   "id": "6f5ee424-f4ab-41ff-aed3-e9ab2af2fe3a",
   "metadata": {},
   "outputs": [
    {
     "data": {
      "text/plain": [
       "user_id        object\n",
       "first_name     object\n",
       "surname        object\n",
       "gender         object\n",
       "state          object\n",
       "age             int64\n",
       "date_joined    object\n",
       "dependants      int64\n",
       "fam_status     object\n",
       "income          int64\n",
       "dtype: object"
      ]
     },
     "execution_count": 34,
     "metadata": {},
     "output_type": "execute_result"
    }
   ],
   "source": [
    "df_cust.dtypes"
   ]
  },
  {
   "cell_type": "code",
   "execution_count": 35,
   "id": "66f92350-fcea-4a72-b260-cf29eb05f443",
   "metadata": {},
   "outputs": [],
   "source": [
    "# check missing values"
   ]
  },
  {
   "cell_type": "code",
   "execution_count": 36,
   "id": "6ef06f5b-489f-4a82-804d-d0e22311daab",
   "metadata": {},
   "outputs": [
    {
     "data": {
      "text/plain": [
       "user_id        0\n",
       "first_name     0\n",
       "surname        0\n",
       "gender         0\n",
       "state          0\n",
       "age            0\n",
       "date_joined    0\n",
       "dependants     0\n",
       "fam_status     0\n",
       "income         0\n",
       "dtype: int64"
      ]
     },
     "execution_count": 36,
     "metadata": {},
     "output_type": "execute_result"
    }
   ],
   "source": [
    "df_cust.isnull().sum()"
   ]
  },
  {
   "cell_type": "markdown",
   "id": "0bd440c1-3b23-4256-bac8-492350e5e468",
   "metadata": {},
   "source": [
    "There are no missing values"
   ]
  },
  {
   "cell_type": "code",
   "execution_count": 38,
   "id": "ade3f193-77c8-4efb-84a4-1d00a80f4b99",
   "metadata": {},
   "outputs": [],
   "source": [
    "# check for duplicates"
   ]
  },
  {
   "cell_type": "code",
   "execution_count": 39,
   "id": "b7f331d7-ec7f-461a-b383-72bc62398397",
   "metadata": {},
   "outputs": [
    {
     "data": {
      "text/html": [
       "<div>\n",
       "<style scoped>\n",
       "    .dataframe tbody tr th:only-of-type {\n",
       "        vertical-align: middle;\n",
       "    }\n",
       "\n",
       "    .dataframe tbody tr th {\n",
       "        vertical-align: top;\n",
       "    }\n",
       "\n",
       "    .dataframe thead th {\n",
       "        text-align: right;\n",
       "    }\n",
       "</style>\n",
       "<table border=\"1\" class=\"dataframe\">\n",
       "  <thead>\n",
       "    <tr style=\"text-align: right;\">\n",
       "      <th></th>\n",
       "      <th>user_id</th>\n",
       "      <th>first_name</th>\n",
       "      <th>surname</th>\n",
       "      <th>gender</th>\n",
       "      <th>state</th>\n",
       "      <th>age</th>\n",
       "      <th>date_joined</th>\n",
       "      <th>dependants</th>\n",
       "      <th>fam_status</th>\n",
       "      <th>income</th>\n",
       "    </tr>\n",
       "  </thead>\n",
       "  <tbody>\n",
       "  </tbody>\n",
       "</table>\n",
       "</div>"
      ],
      "text/plain": [
       "Empty DataFrame\n",
       "Columns: [user_id, first_name, surname, gender, state, age, date_joined, dependants, fam_status, income]\n",
       "Index: []"
      ]
     },
     "execution_count": 39,
     "metadata": {},
     "output_type": "execute_result"
    }
   ],
   "source": [
    "df_cust[df_cust.duplicated()]"
   ]
  },
  {
   "cell_type": "markdown",
   "id": "a66eac46-882c-4ea4-b268-850bd031fc95",
   "metadata": {},
   "source": [
    "There are no duplicates"
   ]
  },
  {
   "cell_type": "code",
   "execution_count": 41,
   "id": "b562bd7f-735f-4b9c-8ea7-0ef200a1ec2e",
   "metadata": {
    "scrolled": true
   },
   "outputs": [
    {
     "data": {
      "text/html": [
       "<div>\n",
       "<style scoped>\n",
       "    .dataframe tbody tr th:only-of-type {\n",
       "        vertical-align: middle;\n",
       "    }\n",
       "\n",
       "    .dataframe tbody tr th {\n",
       "        vertical-align: top;\n",
       "    }\n",
       "\n",
       "    .dataframe thead th {\n",
       "        text-align: right;\n",
       "    }\n",
       "</style>\n",
       "<table border=\"1\" class=\"dataframe\">\n",
       "  <thead>\n",
       "    <tr style=\"text-align: right;\">\n",
       "      <th></th>\n",
       "      <th>age</th>\n",
       "      <th>dependants</th>\n",
       "      <th>income</th>\n",
       "    </tr>\n",
       "  </thead>\n",
       "  <tbody>\n",
       "    <tr>\n",
       "      <th>count</th>\n",
       "      <td>206209.000000</td>\n",
       "      <td>206209.000000</td>\n",
       "      <td>206209.000000</td>\n",
       "    </tr>\n",
       "    <tr>\n",
       "      <th>mean</th>\n",
       "      <td>49.501646</td>\n",
       "      <td>1.499823</td>\n",
       "      <td>94632.852548</td>\n",
       "    </tr>\n",
       "    <tr>\n",
       "      <th>std</th>\n",
       "      <td>18.480962</td>\n",
       "      <td>1.118433</td>\n",
       "      <td>42473.786988</td>\n",
       "    </tr>\n",
       "    <tr>\n",
       "      <th>min</th>\n",
       "      <td>18.000000</td>\n",
       "      <td>0.000000</td>\n",
       "      <td>25903.000000</td>\n",
       "    </tr>\n",
       "    <tr>\n",
       "      <th>25%</th>\n",
       "      <td>33.000000</td>\n",
       "      <td>0.000000</td>\n",
       "      <td>59874.000000</td>\n",
       "    </tr>\n",
       "    <tr>\n",
       "      <th>50%</th>\n",
       "      <td>49.000000</td>\n",
       "      <td>1.000000</td>\n",
       "      <td>93547.000000</td>\n",
       "    </tr>\n",
       "    <tr>\n",
       "      <th>75%</th>\n",
       "      <td>66.000000</td>\n",
       "      <td>3.000000</td>\n",
       "      <td>124244.000000</td>\n",
       "    </tr>\n",
       "    <tr>\n",
       "      <th>max</th>\n",
       "      <td>81.000000</td>\n",
       "      <td>3.000000</td>\n",
       "      <td>593901.000000</td>\n",
       "    </tr>\n",
       "  </tbody>\n",
       "</table>\n",
       "</div>"
      ],
      "text/plain": [
       "                 age     dependants         income\n",
       "count  206209.000000  206209.000000  206209.000000\n",
       "mean       49.501646       1.499823   94632.852548\n",
       "std        18.480962       1.118433   42473.786988\n",
       "min        18.000000       0.000000   25903.000000\n",
       "25%        33.000000       0.000000   59874.000000\n",
       "50%        49.000000       1.000000   93547.000000\n",
       "75%        66.000000       3.000000  124244.000000\n",
       "max        81.000000       3.000000  593901.000000"
      ]
     },
     "execution_count": 41,
     "metadata": {},
     "output_type": "execute_result"
    }
   ],
   "source": [
    "df_cust.describe()"
   ]
  },
  {
   "cell_type": "markdown",
   "id": "5450b91f-7cb3-481b-a052-54e8b8b9426a",
   "metadata": {},
   "source": [
    "There are no unusual statistics seen."
   ]
  },
  {
   "cell_type": "markdown",
   "id": "3268a876-e76d-4146-9f54-ab8f3cc5062d",
   "metadata": {},
   "source": [
    "# Import ords_prods data"
   ]
  },
  {
   "cell_type": "code",
   "execution_count": 44,
   "id": "446022f2-2002-4aa6-9a8f-1b58d9799ee8",
   "metadata": {},
   "outputs": [],
   "source": [
    "ords_prods_merge=pd.read_pickle(r'D:\\Sonal\\career foundry\\CareerFoundry\\Data Immersion\\Achievement 4\\Exc 4.3\\Prepared data\\orders_products_merged_agg.pkl')"
   ]
  },
  {
   "cell_type": "code",
   "execution_count": 45,
   "id": "2a911af4-1dfc-41b2-a515-553609aede36",
   "metadata": {},
   "outputs": [],
   "source": [
    "# check the shape of ords_prods_merge data"
   ]
  },
  {
   "cell_type": "code",
   "execution_count": 46,
   "id": "e330d9b1-32dd-484b-b134-fd1ebbe9e4e2",
   "metadata": {},
   "outputs": [
    {
     "data": {
      "text/plain": [
       "(32404859, 24)"
      ]
     },
     "execution_count": 46,
     "metadata": {},
     "output_type": "execute_result"
    }
   ],
   "source": [
    "ords_prods_merge.shape"
   ]
  },
  {
   "cell_type": "code",
   "execution_count": 47,
   "id": "b0140e9d-7d7b-4bb6-96a5-06ea68f1f773",
   "metadata": {},
   "outputs": [],
   "source": [
    "# identify shared column"
   ]
  },
  {
   "cell_type": "code",
   "execution_count": 48,
   "id": "459b9b02-719b-4d02-83cc-0d13fce52444",
   "metadata": {},
   "outputs": [
    {
     "data": {
      "text/plain": [
       "Index(['product_id', 'product_name', 'aisle_id', 'department_id', 'prices',\n",
       "       'order_id', 'user_id', 'order_number', 'orders_day_of_week',\n",
       "       'order_hour_of_day', 'days_since_prior_order', 'add_to_cart_order',\n",
       "       'reordered', '_merge', 'price_range_loc', 'busiest_day', 'busiest_days',\n",
       "       'busiest_period_of_day', 'max_order', 'loyalty_flag', 'Avg_spend',\n",
       "       'Spender_flag', 'Customer_frequency', 'Frequency_flag'],\n",
       "      dtype='object')"
      ]
     },
     "execution_count": 48,
     "metadata": {},
     "output_type": "execute_result"
    }
   ],
   "source": [
    "ords_prods_merge.columns"
   ]
  },
  {
   "cell_type": "code",
   "execution_count": 49,
   "id": "2952e262-b81c-43a1-8b6c-5d209aa3b0b0",
   "metadata": {},
   "outputs": [
    {
     "data": {
      "text/plain": [
       "Index(['user_id', 'first_name', 'surname', 'gender', 'state', 'age',\n",
       "       'date_joined', 'dependants', 'fam_status', 'income'],\n",
       "      dtype='object')"
      ]
     },
     "execution_count": 49,
     "metadata": {},
     "output_type": "execute_result"
    }
   ],
   "source": [
    "df_cust.columns"
   ]
  },
  {
   "cell_type": "code",
   "execution_count": 50,
   "id": "aa656219-99c9-4578-9306-833cb0e1d0f7",
   "metadata": {},
   "outputs": [],
   "source": [
    "# Both dataframes share the 'user_id' column\n",
    "# Check data-type of ords_prods_merge data "
   ]
  },
  {
   "cell_type": "code",
   "execution_count": 51,
   "id": "fa386abe-9229-4e47-a6b8-2ce01509badc",
   "metadata": {},
   "outputs": [
    {
     "data": {
      "text/plain": [
       "product_id                   int64\n",
       "product_name                object\n",
       "aisle_id                     int64\n",
       "department_id                int64\n",
       "prices                     float64\n",
       "order_id                     int64\n",
       "user_id                      int64\n",
       "order_number                 int64\n",
       "orders_day_of_week           int64\n",
       "order_hour_of_day            int64\n",
       "days_since_prior_order     float64\n",
       "add_to_cart_order            int64\n",
       "reordered                    int64\n",
       "_merge                    category\n",
       "price_range_loc             object\n",
       "busiest_day                 object\n",
       "busiest_days                object\n",
       "busiest_period_of_day       object\n",
       "max_order                    int64\n",
       "loyalty_flag                object\n",
       "Avg_spend                  float64\n",
       "Spender_flag                object\n",
       "Customer_frequency         float64\n",
       "Frequency_flag              object\n",
       "dtype: object"
      ]
     },
     "execution_count": 51,
     "metadata": {},
     "output_type": "execute_result"
    }
   ],
   "source": [
    "ords_prods_merge.dtypes"
   ]
  },
  {
   "cell_type": "code",
   "execution_count": 52,
   "id": "c5c77281-1b05-4da8-abaa-596cfdad6f15",
   "metadata": {},
   "outputs": [
    {
     "data": {
      "text/plain": [
       "dtype('int64')"
      ]
     },
     "execution_count": 52,
     "metadata": {},
     "output_type": "execute_result"
    }
   ],
   "source": [
    "ords_prods_merge['user_id'].dtype"
   ]
  },
  {
   "cell_type": "code",
   "execution_count": 53,
   "id": "b57ee177-d1f3-489e-8b0d-1ed7a2133764",
   "metadata": {},
   "outputs": [
    {
     "data": {
      "text/plain": [
       "dtype('O')"
      ]
     },
     "execution_count": 53,
     "metadata": {},
     "output_type": "execute_result"
    }
   ],
   "source": [
    "# let's check user_id of customer data\n",
    "df_cust['user_id'].dtype"
   ]
  },
  {
   "cell_type": "code",
   "execution_count": 54,
   "id": "5464c5e8-6d6c-4a28-a60a-1bc07ec69ac3",
   "metadata": {},
   "outputs": [],
   "source": [
    "# change ords_prods_merge 'user_id' to str"
   ]
  },
  {
   "cell_type": "code",
   "execution_count": 55,
   "id": "b52332fb-a0d2-4b10-a8f8-97771d0e7db4",
   "metadata": {},
   "outputs": [],
   "source": [
    "ords_prods_merge['user_id']=ords_prods_merge['user_id'].astype('str')"
   ]
  },
  {
   "cell_type": "code",
   "execution_count": 56,
   "id": "93990ea1-b8ec-4aff-8a8f-5edc7a051bbd",
   "metadata": {},
   "outputs": [
    {
     "data": {
      "text/plain": [
       "dtype('O')"
      ]
     },
     "execution_count": 56,
     "metadata": {},
     "output_type": "execute_result"
    }
   ],
   "source": [
    "ords_prods_merge['user_id'].dtype"
   ]
  },
  {
   "cell_type": "code",
   "execution_count": 57,
   "id": "33a7215a-1afc-46d2-8279-7aa621c294cf",
   "metadata": {},
   "outputs": [],
   "source": [
    "# drop merge column as indicates that the DataFrame you're trying to merge already contains a column named \"_merge\""
   ]
  },
  {
   "cell_type": "code",
   "execution_count": 58,
   "id": "aef533a7-87bd-4ea0-aaa4-b1520514fbe1",
   "metadata": {},
   "outputs": [],
   "source": [
    "ords_prods_merge = ords_prods_merge.drop(columns=['_merge'])"
   ]
  },
  {
   "cell_type": "code",
   "execution_count": 59,
   "id": "bc261455-f66f-4d98-8384-566dedfeac07",
   "metadata": {},
   "outputs": [],
   "source": [
    "# drop unnecessary columns to minimize size of dataset"
   ]
  },
  {
   "cell_type": "code",
   "execution_count": 60,
   "id": "e686326d-7c16-415e-9632-741dd5ba5c75",
   "metadata": {
    "scrolled": true
   },
   "outputs": [],
   "source": [
    "df_ords_prods_merge=ords_prods_merge.drop(columns=['aisle_id','add_to_cart_order','reordered','busiest_day','max_order','Avg_spend','Customer_frequency'])"
   ]
  },
  {
   "cell_type": "code",
   "execution_count": 61,
   "id": "04c41530-bf95-4776-a7b7-e5674202255a",
   "metadata": {},
   "outputs": [],
   "source": [
    "df_customer=df_cust.drop(columns=['first_name','surname','date_joined','dependants'])"
   ]
  },
  {
   "cell_type": "code",
   "execution_count": 62,
   "id": "2cf841bc-1b03-45ac-afda-195a9420aa5f",
   "metadata": {},
   "outputs": [
    {
     "data": {
      "text/plain": [
       "(32404859, 16)"
      ]
     },
     "execution_count": 62,
     "metadata": {},
     "output_type": "execute_result"
    }
   ],
   "source": [
    "df_ords_prods_merge.shape"
   ]
  },
  {
   "cell_type": "code",
   "execution_count": 63,
   "id": "4c5db2de-ff5b-44cf-b061-9a0fc6d12d69",
   "metadata": {},
   "outputs": [
    {
     "data": {
      "text/plain": [
       "(206209, 6)"
      ]
     },
     "execution_count": 63,
     "metadata": {},
     "output_type": "execute_result"
    }
   ],
   "source": [
    "df_customer.shape"
   ]
  },
  {
   "cell_type": "code",
   "execution_count": 64,
   "id": "d0c49ed7-4e84-4f98-806e-c1636a0d234a",
   "metadata": {},
   "outputs": [],
   "source": [
    "# Merge the two dataframes using the column 'user_id' as the shared column with the default join (inner)"
   ]
  },
  {
   "cell_type": "code",
   "execution_count": 65,
   "id": "10445e2d-85c0-482d-9bc7-a7484008d372",
   "metadata": {},
   "outputs": [],
   "source": [
    "\n",
    "# Function to optimize memory usage"
   ]
  },
  {
   "cell_type": "code",
   "execution_count": 66,
   "id": "03928b63-0675-4a97-b52c-779ee5cc5018",
   "metadata": {},
   "outputs": [],
   "source": [
    "def optimize_memory_usage(df):\n",
    "    for col in df.columns:\n",
    "        col_type = df[col].dtype\n",
    "\n",
    "        if col_type != object:\n",
    "            c_min = df[col].min()\n",
    "            c_max = df[col].max()\n",
    "\n",
    "            if str(col_type)[:3] == 'int':\n",
    "                if c_min > np.iinfo(np.int8).min and c_max < np.iinfo(np.int8).max:\n",
    "                    df[col] = df[col].astype(np.int8)\n",
    "                elif c_min > np.iinfo(np.int16).min and c_max < np.iinfo(np.int16).max:\n",
    "                    df[col] = df[col].astype(np.int16)\n",
    "                elif c_min > np.iinfo(np.int32).min and c_max < np.iinfo(np.int32).max:\n",
    "                    df[col] = df[col].astype(np.int32)\n",
    "                else:\n",
    "                    df[col] = df[col].astype(np.int64)\n",
    "            elif str(col_type)[:5] == 'float':\n",
    "                if c_min > np.finfo(np.float16).min and c_max < np.finfo(np.float16).max:\n",
    "                    df[col] = df[col].astype(np.float16)\n",
    "                elif c_min > np.finfo(np.float32).min and c_max < np.finfo(np.float32).max:\n",
    "                    df[col] = df[col].astype(np.float32)\n",
    "                else:\n",
    "                    df[col] = df[col].astype(np.float64)\n",
    "        else:\n",
    "            df[col] = df[col].astype('category')\n",
    "\n",
    "    return df"
   ]
  },
  {
   "cell_type": "code",
   "execution_count": 67,
   "id": "c58c2155-ff1c-4323-afef-25300d0ea8df",
   "metadata": {},
   "outputs": [],
   "source": [
    "# Optimize memory usage for both dataframes"
   ]
  },
  {
   "cell_type": "code",
   "execution_count": 68,
   "id": "515e4edc-b492-412c-9361-9127e899d7bb",
   "metadata": {},
   "outputs": [],
   "source": [
    "df_ords_prods_merge = optimize_memory_usage(df_ords_prods_merge)"
   ]
  },
  {
   "cell_type": "code",
   "execution_count": 125,
   "id": "1d904492-fee4-4087-87b4-0547f508ab4b",
   "metadata": {},
   "outputs": [],
   "source": [
    "df_customer = optimize_memory_usage(df_customer)"
   ]
  },
  {
   "cell_type": "code",
   "execution_count": 127,
   "id": "ed62c614-3128-4dc1-b038-60fda6f24ad3",
   "metadata": {},
   "outputs": [],
   "source": [
    "# data after optimization to verify integrity"
   ]
  },
  {
   "cell_type": "code",
   "execution_count": 129,
   "id": "15cfd107-539c-4963-8cc6-519e7f6b8cc7",
   "metadata": {},
   "outputs": [
    {
     "data": {
      "text/plain": [
       "(32404859, 16)"
      ]
     },
     "execution_count": 129,
     "metadata": {},
     "output_type": "execute_result"
    }
   ],
   "source": [
    "df_ords_prods_merge.shape"
   ]
  },
  {
   "cell_type": "code",
   "execution_count": 133,
   "id": "b28cbbfa-b44c-48b2-8e10-fe05d000b9b5",
   "metadata": {},
   "outputs": [
    {
     "data": {
      "text/plain": [
       "(206209, 6)"
      ]
     },
     "execution_count": 133,
     "metadata": {},
     "output_type": "execute_result"
    }
   ],
   "source": [
    "df_customer.shape"
   ]
  },
  {
   "cell_type": "markdown",
   "id": "a9d43b98-e65c-4168-9cec-c10656f16d94",
   "metadata": {},
   "source": [
    "# Merge data"
   ]
  },
  {
   "cell_type": "code",
   "execution_count": 136,
   "id": "0deca057-ad7b-4d62-8997-0833655b2404",
   "metadata": {},
   "outputs": [],
   "source": [
    "cust_ords_prods_merge = df_ords_prods_merge.merge(df_custo, on='user_id', indicator=True)"
   ]
  },
  {
   "cell_type": "code",
   "execution_count": 138,
   "id": "455717af-a8a3-40f6-b450-541f27f5e24e",
   "metadata": {},
   "outputs": [
    {
     "data": {
      "text/plain": [
       "(32404859, 22)"
      ]
     },
     "execution_count": 138,
     "metadata": {},
     "output_type": "execute_result"
    }
   ],
   "source": [
    "cust_ords_prods_merge"
   ]
  },
  {
   "cell_type": "code",
   "execution_count": 140,
   "id": "2e7eba4a-e76d-4ed4-873a-f299c7e51a04",
   "metadata": {},
   "outputs": [
    {
     "data": {
      "text/html": [
       "<div>\n",
       "<style scoped>\n",
       "    .dataframe tbody tr th:only-of-type {\n",
       "        vertical-align: middle;\n",
       "    }\n",
       "\n",
       "    .dataframe tbody tr th {\n",
       "        vertical-align: top;\n",
       "    }\n",
       "\n",
       "    .dataframe thead th {\n",
       "        text-align: right;\n",
       "    }\n",
       "</style>\n",
       "<table border=\"1\" class=\"dataframe\">\n",
       "  <thead>\n",
       "    <tr style=\"text-align: right;\">\n",
       "      <th></th>\n",
       "      <th>product_id</th>\n",
       "      <th>product_name</th>\n",
       "      <th>department_id</th>\n",
       "      <th>prices</th>\n",
       "      <th>order_id</th>\n",
       "      <th>user_id</th>\n",
       "      <th>order_number</th>\n",
       "      <th>orders_day_of_week</th>\n",
       "      <th>order_hour_of_day</th>\n",
       "      <th>days_since_prior_order</th>\n",
       "      <th>...</th>\n",
       "      <th>busiest_period_of_day</th>\n",
       "      <th>loyalty_flag</th>\n",
       "      <th>Spender_flag</th>\n",
       "      <th>Frequency_flag</th>\n",
       "      <th>gender</th>\n",
       "      <th>state</th>\n",
       "      <th>age</th>\n",
       "      <th>fam_status</th>\n",
       "      <th>income</th>\n",
       "      <th>_merge</th>\n",
       "    </tr>\n",
       "  </thead>\n",
       "  <tbody>\n",
       "    <tr>\n",
       "      <th>0</th>\n",
       "      <td>1</td>\n",
       "      <td>Chocolate Sandwich Cookies</td>\n",
       "      <td>19</td>\n",
       "      <td>5.8</td>\n",
       "      <td>3139998</td>\n",
       "      <td>138</td>\n",
       "      <td>28</td>\n",
       "      <td>6</td>\n",
       "      <td>11</td>\n",
       "      <td>3.0</td>\n",
       "      <td>...</td>\n",
       "      <td>Most orders</td>\n",
       "      <td>Regular customer</td>\n",
       "      <td>Low spender</td>\n",
       "      <td>Frequent customer</td>\n",
       "      <td>Male</td>\n",
       "      <td>Minnesota</td>\n",
       "      <td>81</td>\n",
       "      <td>married</td>\n",
       "      <td>49620</td>\n",
       "      <td>both</td>\n",
       "    </tr>\n",
       "    <tr>\n",
       "      <th>1</th>\n",
       "      <td>1</td>\n",
       "      <td>Chocolate Sandwich Cookies</td>\n",
       "      <td>19</td>\n",
       "      <td>5.8</td>\n",
       "      <td>1977647</td>\n",
       "      <td>138</td>\n",
       "      <td>30</td>\n",
       "      <td>6</td>\n",
       "      <td>17</td>\n",
       "      <td>20.0</td>\n",
       "      <td>...</td>\n",
       "      <td>Average orders</td>\n",
       "      <td>Regular customer</td>\n",
       "      <td>Low spender</td>\n",
       "      <td>Frequent customer</td>\n",
       "      <td>Male</td>\n",
       "      <td>Minnesota</td>\n",
       "      <td>81</td>\n",
       "      <td>married</td>\n",
       "      <td>49620</td>\n",
       "      <td>both</td>\n",
       "    </tr>\n",
       "    <tr>\n",
       "      <th>2</th>\n",
       "      <td>1</td>\n",
       "      <td>Chocolate Sandwich Cookies</td>\n",
       "      <td>19</td>\n",
       "      <td>5.8</td>\n",
       "      <td>389851</td>\n",
       "      <td>709</td>\n",
       "      <td>2</td>\n",
       "      <td>0</td>\n",
       "      <td>21</td>\n",
       "      <td>6.0</td>\n",
       "      <td>...</td>\n",
       "      <td>Average orders</td>\n",
       "      <td>New customer</td>\n",
       "      <td>Low spender</td>\n",
       "      <td>Frequent customer</td>\n",
       "      <td>Female</td>\n",
       "      <td>Vermont</td>\n",
       "      <td>66</td>\n",
       "      <td>married</td>\n",
       "      <td>158302</td>\n",
       "      <td>both</td>\n",
       "    </tr>\n",
       "    <tr>\n",
       "      <th>3</th>\n",
       "      <td>1</td>\n",
       "      <td>Chocolate Sandwich Cookies</td>\n",
       "      <td>19</td>\n",
       "      <td>5.8</td>\n",
       "      <td>652770</td>\n",
       "      <td>764</td>\n",
       "      <td>1</td>\n",
       "      <td>3</td>\n",
       "      <td>13</td>\n",
       "      <td>NaN</td>\n",
       "      <td>...</td>\n",
       "      <td>Most orders</td>\n",
       "      <td>New customer</td>\n",
       "      <td>Low spender</td>\n",
       "      <td>Frequent customer</td>\n",
       "      <td>Female</td>\n",
       "      <td>Wisconsin</td>\n",
       "      <td>40</td>\n",
       "      <td>married</td>\n",
       "      <td>31308</td>\n",
       "      <td>both</td>\n",
       "    </tr>\n",
       "    <tr>\n",
       "      <th>4</th>\n",
       "      <td>1</td>\n",
       "      <td>Chocolate Sandwich Cookies</td>\n",
       "      <td>19</td>\n",
       "      <td>5.8</td>\n",
       "      <td>1813452</td>\n",
       "      <td>764</td>\n",
       "      <td>3</td>\n",
       "      <td>4</td>\n",
       "      <td>17</td>\n",
       "      <td>9.0</td>\n",
       "      <td>...</td>\n",
       "      <td>Average orders</td>\n",
       "      <td>New customer</td>\n",
       "      <td>Low spender</td>\n",
       "      <td>Frequent customer</td>\n",
       "      <td>Female</td>\n",
       "      <td>Wisconsin</td>\n",
       "      <td>40</td>\n",
       "      <td>married</td>\n",
       "      <td>31308</td>\n",
       "      <td>both</td>\n",
       "    </tr>\n",
       "  </tbody>\n",
       "</table>\n",
       "<p>5 rows × 22 columns</p>\n",
       "</div>"
      ],
      "text/plain": [
       "   product_id                product_name  department_id  prices  order_id  \\\n",
       "0           1  Chocolate Sandwich Cookies             19     5.8   3139998   \n",
       "1           1  Chocolate Sandwich Cookies             19     5.8   1977647   \n",
       "2           1  Chocolate Sandwich Cookies             19     5.8    389851   \n",
       "3           1  Chocolate Sandwich Cookies             19     5.8    652770   \n",
       "4           1  Chocolate Sandwich Cookies             19     5.8   1813452   \n",
       "\n",
       "  user_id  order_number  orders_day_of_week  order_hour_of_day  \\\n",
       "0     138            28                   6                 11   \n",
       "1     138            30                   6                 17   \n",
       "2     709             2                   0                 21   \n",
       "3     764             1                   3                 13   \n",
       "4     764             3                   4                 17   \n",
       "\n",
       "   days_since_prior_order  ... busiest_period_of_day      loyalty_flag  \\\n",
       "0                     3.0  ...           Most orders  Regular customer   \n",
       "1                    20.0  ...        Average orders  Regular customer   \n",
       "2                     6.0  ...        Average orders      New customer   \n",
       "3                     NaN  ...           Most orders      New customer   \n",
       "4                     9.0  ...        Average orders      New customer   \n",
       "\n",
       "  Spender_flag     Frequency_flag  gender      state age fam_status  income  \\\n",
       "0  Low spender  Frequent customer    Male  Minnesota  81    married   49620   \n",
       "1  Low spender  Frequent customer    Male  Minnesota  81    married   49620   \n",
       "2  Low spender  Frequent customer  Female    Vermont  66    married  158302   \n",
       "3  Low spender  Frequent customer  Female  Wisconsin  40    married   31308   \n",
       "4  Low spender  Frequent customer  Female  Wisconsin  40    married   31308   \n",
       "\n",
       "  _merge  \n",
       "0   both  \n",
       "1   both  \n",
       "2   both  \n",
       "3   both  \n",
       "4   both  \n",
       "\n",
       "[5 rows x 22 columns]"
      ]
     },
     "execution_count": 140,
     "metadata": {},
     "output_type": "execute_result"
    }
   ],
   "source": [
    "cust_ords_prods_merge.head()"
   ]
  },
  {
   "cell_type": "code",
   "execution_count": 142,
   "id": "089d2300-5055-4eb0-a70e-492c8f0d3a37",
   "metadata": {},
   "outputs": [
    {
     "data": {
      "text/plain": [
       "_merge\n",
       "both          32404859\n",
       "left_only            0\n",
       "right_only           0\n",
       "Name: count, dtype: int64"
      ]
     },
     "execution_count": 142,
     "metadata": {},
     "output_type": "execute_result"
    }
   ],
   "source": [
    "cust_ords_prods_merge['_merge'].value_counts()"
   ]
  },
  {
   "cell_type": "code",
   "execution_count": 148,
   "id": "e8b5e8a2-4f59-4716-819a-33f9b5f2e90e",
   "metadata": {},
   "outputs": [],
   "source": [
    "cust_ords_prods_merge.to_pickle(os.path.join(path,'prepared data','cust_ords_prods.pkl'))"
   ]
  },
  {
   "cell_type": "code",
   "execution_count": null,
   "id": "752e6276-a658-4928-8935-fc9b3ce5413f",
   "metadata": {},
   "outputs": [],
   "source": []
  }
 ],
 "metadata": {
  "kernelspec": {
   "display_name": "Python 3 (ipykernel)",
   "language": "python",
   "name": "python3"
  },
  "language_info": {
   "codemirror_mode": {
    "name": "ipython",
    "version": 3
   },
   "file_extension": ".py",
   "mimetype": "text/x-python",
   "name": "python",
   "nbconvert_exporter": "python",
   "pygments_lexer": "ipython3",
   "version": "3.11.7"
  }
 },
 "nbformat": 4,
 "nbformat_minor": 5
}
